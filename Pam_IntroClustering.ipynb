{
  "nbformat": 4,
  "nbformat_minor": 0,
  "metadata": {
    "colab": {
      "name": "Pam IntroClustering.ipynb",
      "provenance": [],
      "collapsed_sections": [],
      "toc_visible": true,
      "include_colab_link": true
    },
    "kernelspec": {
      "name": "python3",
      "display_name": "Python 3"
    }
  },
  "cells": [
    {
      "cell_type": "markdown",
      "metadata": {
        "id": "view-in-github",
        "colab_type": "text"
      },
      "source": [
        "<a href=\"https://colab.research.google.com/github/pamella-gonzales/FTW3-Day3/blob/master/Pam_IntroClustering.ipynb\" target=\"_parent\"><img src=\"https://colab.research.google.com/assets/colab-badge.svg\" alt=\"Open In Colab\"/></a>"
      ]
    },
    {
      "cell_type": "code",
      "metadata": {
        "id": "lc-uZ_ZhN44k",
        "colab_type": "code",
        "colab": {}
      },
      "source": [
        "import pandas as pd\n",
        "import numpy as np\n",
        "import matplotlib.pyplot as plt\n",
        "import seaborn as sns"
      ],
      "execution_count": 0,
      "outputs": []
    },
    {
      "cell_type": "markdown",
      "metadata": {
        "id": "LheBPT9zOi03",
        "colab_type": "text"
      },
      "source": [
        "### Load Data"
      ]
    },
    {
      "cell_type": "code",
      "metadata": {
        "id": "JXDvb0xDOQ98",
        "colab_type": "code",
        "colab": {}
      },
      "source": [
        "data = pd.read_csv(\"Mall_Customers.csv\")"
      ],
      "execution_count": 0,
      "outputs": []
    },
    {
      "cell_type": "code",
      "metadata": {
        "id": "riPA2EWpOUZa",
        "colab_type": "code",
        "outputId": "85619f5e-aa5a-4aa8-835e-e1b06e34448b",
        "colab": {
          "base_uri": "https://localhost:8080/",
          "height": 204
        }
      },
      "source": [
        "data.head()"
      ],
      "execution_count": 0,
      "outputs": [
        {
          "output_type": "execute_result",
          "data": {
            "text/html": [
              "<div>\n",
              "<style scoped>\n",
              "    .dataframe tbody tr th:only-of-type {\n",
              "        vertical-align: middle;\n",
              "    }\n",
              "\n",
              "    .dataframe tbody tr th {\n",
              "        vertical-align: top;\n",
              "    }\n",
              "\n",
              "    .dataframe thead th {\n",
              "        text-align: right;\n",
              "    }\n",
              "</style>\n",
              "<table border=\"1\" class=\"dataframe\">\n",
              "  <thead>\n",
              "    <tr style=\"text-align: right;\">\n",
              "      <th></th>\n",
              "      <th>CustomerID</th>\n",
              "      <th>Gender</th>\n",
              "      <th>Age</th>\n",
              "      <th>Annual Income (k$)</th>\n",
              "      <th>Spending Score (1-100)</th>\n",
              "    </tr>\n",
              "  </thead>\n",
              "  <tbody>\n",
              "    <tr>\n",
              "      <th>0</th>\n",
              "      <td>1</td>\n",
              "      <td>Male</td>\n",
              "      <td>19</td>\n",
              "      <td>15</td>\n",
              "      <td>39</td>\n",
              "    </tr>\n",
              "    <tr>\n",
              "      <th>1</th>\n",
              "      <td>2</td>\n",
              "      <td>Male</td>\n",
              "      <td>21</td>\n",
              "      <td>15</td>\n",
              "      <td>81</td>\n",
              "    </tr>\n",
              "    <tr>\n",
              "      <th>2</th>\n",
              "      <td>3</td>\n",
              "      <td>Female</td>\n",
              "      <td>20</td>\n",
              "      <td>16</td>\n",
              "      <td>6</td>\n",
              "    </tr>\n",
              "    <tr>\n",
              "      <th>3</th>\n",
              "      <td>4</td>\n",
              "      <td>Female</td>\n",
              "      <td>23</td>\n",
              "      <td>16</td>\n",
              "      <td>77</td>\n",
              "    </tr>\n",
              "    <tr>\n",
              "      <th>4</th>\n",
              "      <td>5</td>\n",
              "      <td>Female</td>\n",
              "      <td>31</td>\n",
              "      <td>17</td>\n",
              "      <td>40</td>\n",
              "    </tr>\n",
              "  </tbody>\n",
              "</table>\n",
              "</div>"
            ],
            "text/plain": [
              "   CustomerID  Gender  Age  Annual Income (k$)  Spending Score (1-100)\n",
              "0           1    Male   19                  15                      39\n",
              "1           2    Male   21                  15                      81\n",
              "2           3  Female   20                  16                       6\n",
              "3           4  Female   23                  16                      77\n",
              "4           5  Female   31                  17                      40"
            ]
          },
          "metadata": {
            "tags": []
          },
          "execution_count": 3
        }
      ]
    },
    {
      "cell_type": "markdown",
      "metadata": {
        "id": "UTTRZFQJQmXC",
        "colab_type": "text"
      },
      "source": [
        "# Exploratory Data Analysis"
      ]
    },
    {
      "cell_type": "markdown",
      "metadata": {
        "id": "qvz1x9KfO3jt",
        "colab_type": "text"
      },
      "source": [
        "### How many rows/columns are there?"
      ]
    },
    {
      "cell_type": "code",
      "metadata": {
        "id": "DWzrWlMaO5_j",
        "colab_type": "code",
        "outputId": "38459796-b6fe-4ba0-8826-25d416bb8ede",
        "colab": {
          "base_uri": "https://localhost:8080/",
          "height": 34
        }
      },
      "source": [
        "data.shape"
      ],
      "execution_count": 0,
      "outputs": [
        {
          "output_type": "execute_result",
          "data": {
            "text/plain": [
              "(200, 5)"
            ]
          },
          "metadata": {
            "tags": []
          },
          "execution_count": 6
        }
      ]
    },
    {
      "cell_type": "markdown",
      "metadata": {
        "id": "0pxHHHgNOWGR",
        "colab_type": "text"
      },
      "source": [
        "### How many customers are there?"
      ]
    },
    {
      "cell_type": "code",
      "metadata": {
        "id": "9ZmesyD9Onuq",
        "colab_type": "code",
        "outputId": "06092ca0-e50c-469d-a770-b76e5920a885",
        "colab": {
          "base_uri": "https://localhost:8080/",
          "height": 34
        }
      },
      "source": [
        "data['CustomerID'].nunique()"
      ],
      "execution_count": 0,
      "outputs": [
        {
          "output_type": "execute_result",
          "data": {
            "text/plain": [
              "200"
            ]
          },
          "metadata": {
            "tags": []
          },
          "execution_count": 4
        }
      ]
    },
    {
      "cell_type": "markdown",
      "metadata": {
        "id": "iU-MbVEVOwOt",
        "colab_type": "text"
      },
      "source": [
        "This means, we have 200 unique customer IDs"
      ]
    },
    {
      "cell_type": "markdown",
      "metadata": {
        "id": "YQtt1-BhOzgD",
        "colab_type": "text"
      },
      "source": [
        "### How many of each gender type are there?"
      ]
    },
    {
      "cell_type": "code",
      "metadata": {
        "id": "KTYBVadJO2i_",
        "colab_type": "code",
        "outputId": "42aa7562-c6fc-43c0-88ea-113eeb594367",
        "colab": {
          "base_uri": "https://localhost:8080/",
          "height": 68
        }
      },
      "source": [
        "data['Gender'].value_counts()"
      ],
      "execution_count": 0,
      "outputs": [
        {
          "output_type": "execute_result",
          "data": {
            "text/plain": [
              "Female    112\n",
              "Male       88\n",
              "Name: Gender, dtype: int64"
            ]
          },
          "metadata": {
            "tags": []
          },
          "execution_count": 5
        }
      ]
    },
    {
      "cell_type": "markdown",
      "metadata": {
        "id": "zFFgUrkzPJ3B",
        "colab_type": "text"
      },
      "source": [
        "This means, there are more female than male in our dataset."
      ]
    },
    {
      "cell_type": "markdown",
      "metadata": {
        "id": "mLflskPqPQbO",
        "colab_type": "text"
      },
      "source": [
        "### How does the annual income distribution of our customers look like?"
      ]
    },
    {
      "cell_type": "markdown",
      "metadata": {
        "id": "XJb_1fPLPZjh",
        "colab_type": "text"
      },
      "source": [
        "Descriptive Statistics"
      ]
    },
    {
      "cell_type": "code",
      "metadata": {
        "id": "A0vs8-PiPcYN",
        "colab_type": "code",
        "outputId": "961a4e31-299d-4878-82de-805a80440986",
        "colab": {
          "base_uri": "https://localhost:8080/",
          "height": 272
        }
      },
      "source": [
        "data['Annual Income (k$)'].describe(np.arange(0.1, 1, 0.1))"
      ],
      "execution_count": 0,
      "outputs": [
        {
          "output_type": "execute_result",
          "data": {
            "text/plain": [
              "count    200.000000\n",
              "mean      60.560000\n",
              "std       26.264721\n",
              "min       15.000000\n",
              "10%       23.900000\n",
              "20%       37.800000\n",
              "30%       46.000000\n",
              "40%       54.000000\n",
              "50%       61.500000\n",
              "60%       67.000000\n",
              "70%       74.300000\n",
              "80%       78.200000\n",
              "90%       93.400000\n",
              "max      137.000000\n",
              "Name: Annual Income (k$), dtype: float64"
            ]
          },
          "metadata": {
            "tags": []
          },
          "execution_count": 7
        }
      ]
    },
    {
      "cell_type": "markdown",
      "metadata": {
        "id": "43REfwTpPhQh",
        "colab_type": "text"
      },
      "source": [
        "The annual income ranges from 15 to 137 with an average (median) annual income is 61 k$."
      ]
    },
    {
      "cell_type": "code",
      "metadata": {
        "id": "EL7nIQRzPUKr",
        "colab_type": "code",
        "outputId": "d76e3eea-66e0-42db-fe69-95d9091b1d18",
        "colab": {
          "base_uri": "https://localhost:8080/",
          "height": 296
        }
      },
      "source": [
        "sns.distplot(data['Annual Income (k$)'], kde=False)"
      ],
      "execution_count": 0,
      "outputs": [
        {
          "output_type": "execute_result",
          "data": {
            "text/plain": [
              "<matplotlib.axes._subplots.AxesSubplot at 0x7f569e603080>"
            ]
          },
          "metadata": {
            "tags": []
          },
          "execution_count": 8
        },
        {
          "output_type": "display_data",
          "data": {
            "image/png": "[encoded data removed]",
            "text/plain": [
              "<Figure size 432x288 with 1 Axes>"
            ]
          },
          "metadata": {
            "tags": []
          }
        }
      ]
    },
    {
      "cell_type": "markdown",
      "metadata": {
        "id": "IUJEe9cDPX0m",
        "colab_type": "text"
      },
      "source": [
        "### How does the spending score distribution look like?"
      ]
    },
    {
      "cell_type": "code",
      "metadata": {
        "id": "2D4DO4vYQZmX",
        "colab_type": "code",
        "outputId": "c997e3ad-da74-457b-83a2-90edc2fd18e6",
        "colab": {
          "base_uri": "https://localhost:8080/",
          "height": 272
        }
      },
      "source": [
        "data['Spending Score (1-100)'].describe(np.arange(0.1, 1, 0.1))"
      ],
      "execution_count": 0,
      "outputs": [
        {
          "output_type": "execute_result",
          "data": {
            "text/plain": [
              "count    200.000000\n",
              "mean      50.200000\n",
              "std       25.823522\n",
              "min        1.000000\n",
              "10%       13.000000\n",
              "20%       26.000000\n",
              "30%       40.000000\n",
              "40%       45.600000\n",
              "50%       50.000000\n",
              "60%       55.000000\n",
              "70%       61.600000\n",
              "80%       75.000000\n",
              "90%       87.100000\n",
              "max       99.000000\n",
              "Name: Spending Score (1-100), dtype: float64"
            ]
          },
          "metadata": {
            "tags": []
          },
          "execution_count": 9
        }
      ]
    },
    {
      "cell_type": "code",
      "metadata": {
        "id": "MjgtlSe8QdGO",
        "colab_type": "code",
        "outputId": "46ef0903-d57e-429a-93e3-c0d4c1a0ca12",
        "colab": {
          "base_uri": "https://localhost:8080/",
          "height": 296
        }
      },
      "source": [
        "sns.distplot(data['Spending Score (1-100)'], kde=False)"
      ],
      "execution_count": 0,
      "outputs": [
        {
          "output_type": "execute_result",
          "data": {
            "text/plain": [
              "<matplotlib.axes._subplots.AxesSubplot at 0x7f569e0e3550>"
            ]
          },
          "metadata": {
            "tags": []
          },
          "execution_count": 11
        },
        {
          "output_type": "display_data",
          "data": {
            "image/png": "[encoded data removed]",
            "text/plain": [
              "<Figure size 432x288 with 1 Axes>"
            ]
          },
          "metadata": {
            "tags": []
          }
        }
      ]
    },
    {
      "cell_type": "markdown",
      "metadata": {
        "id": "gJzKWhQ_Qfvx",
        "colab_type": "text"
      },
      "source": [
        "Spend score is pretty much normally distributed. but since only 200 points, this not yet normal"
      ]
    },
    {
      "cell_type": "markdown",
      "metadata": {
        "id": "rulXVROOQktg",
        "colab_type": "text"
      },
      "source": [
        "# Clustering"
      ]
    },
    {
      "cell_type": "code",
      "metadata": {
        "id": "eh6RPPyKQqbo",
        "colab_type": "code",
        "colab": {}
      },
      "source": [
        "from sklearn.cluster import KMeans"
      ],
      "execution_count": 0,
      "outputs": []
    },
    {
      "cell_type": "code",
      "metadata": {
        "id": "8IL-NAPHXfqY",
        "colab_type": "code",
        "outputId": "b760226f-cd35-4a4e-99de-cd8e3c1316af",
        "colab": {
          "base_uri": "https://localhost:8080/",
          "height": 204
        }
      },
      "source": [
        "# Get features we need\n",
        "features = ['Annual Income (k$)', 'Spending Score (1-100)']\n",
        "X = data[features]\n",
        "\n",
        "# Convert categorical to numeric\n",
        "# X = pd.get_dummies(X_raw)\n",
        "# X_raw.head()\n",
        "\n",
        "X.head()"
      ],
      "execution_count": 0,
      "outputs": [
        {
          "output_type": "execute_result",
          "data": {
            "text/html": [
              "<div>\n",
              "<style scoped>\n",
              "    .dataframe tbody tr th:only-of-type {\n",
              "        vertical-align: middle;\n",
              "    }\n",
              "\n",
              "    .dataframe tbody tr th {\n",
              "        vertical-align: top;\n",
              "    }\n",
              "\n",
              "    .dataframe thead th {\n",
              "        text-align: right;\n",
              "    }\n",
              "</style>\n",
              "<table border=\"1\" class=\"dataframe\">\n",
              "  <thead>\n",
              "    <tr style=\"text-align: right;\">\n",
              "      <th></th>\n",
              "      <th>Annual Income (k$)</th>\n",
              "      <th>Spending Score (1-100)</th>\n",
              "    </tr>\n",
              "  </thead>\n",
              "  <tbody>\n",
              "    <tr>\n",
              "      <th>0</th>\n",
              "      <td>15</td>\n",
              "      <td>39</td>\n",
              "    </tr>\n",
              "    <tr>\n",
              "      <th>1</th>\n",
              "      <td>15</td>\n",
              "      <td>81</td>\n",
              "    </tr>\n",
              "    <tr>\n",
              "      <th>2</th>\n",
              "      <td>16</td>\n",
              "      <td>6</td>\n",
              "    </tr>\n",
              "    <tr>\n",
              "      <th>3</th>\n",
              "      <td>16</td>\n",
              "      <td>77</td>\n",
              "    </tr>\n",
              "    <tr>\n",
              "      <th>4</th>\n",
              "      <td>17</td>\n",
              "      <td>40</td>\n",
              "    </tr>\n",
              "  </tbody>\n",
              "</table>\n",
              "</div>"
            ],
            "text/plain": [
              "   Annual Income (k$)  Spending Score (1-100)\n",
              "0                  15                      39\n",
              "1                  15                      81\n",
              "2                  16                       6\n",
              "3                  16                      77\n",
              "4                  17                      40"
            ]
          },
          "metadata": {
            "tags": []
          },
          "execution_count": 13
        }
      ]
    },
    {
      "cell_type": "code",
      "metadata": {
        "id": "wz4hZn1i4hZZ",
        "colab_type": "code",
        "outputId": "8acb5ff9-7dd6-40e6-d2b0-b94c6acf6f33",
        "colab": {
          "base_uri": "https://localhost:8080/",
          "height": 581
        }
      },
      "source": [
        "!pip install hvplot"
      ],
      "execution_count": 0,
      "outputs": [
        {
          "output_type": "stream",
          "text": [
            "Collecting hvplot\n",
            "\u001b[?25l  Downloading https://files.pythonhosted.org/packages/8d/76/dff23a55164f051628dce17cf5cadb08bb594b4a47212aaec29a2b5802ea/hvplot-0.5.2-py2.py3-none-any.whl (2.5MB)\n",
            "\u001b[K     |████████████████████████████████| 2.5MB 9.5MB/s \n",
            "\u001b[?25hRequirement already satisfied: bokeh>=1.0.0 in /usr/local/lib/python3.6/dist-packages (from hvplot) (1.0.4)\n",
            "Collecting colorcet\n",
            "\u001b[?25l  Downloading https://files.pythonhosted.org/packages/b5/a4/8a5a364492af01c8b689987ce792d0d00835bbb1203a5cd5e49798a41fbd/colorcet-2.0.2-py2.py3-none-any.whl (1.6MB)\n",
            "\u001b[K     |████████████████████████████████| 1.6MB 28.1MB/s \n",
            "\u001b[?25hCollecting holoviews>=1.11.0\n",
            "\u001b[?25l  Downloading https://files.pythonhosted.org/packages/bc/63/3ffc471d37c50a470a8a102f098b5cc79d7971196fc2d8e75c064dade311/holoviews-1.12.7-py2.py3-none-any.whl (4.0MB)\n",
            "\u001b[K     |████████████████████████████████| 4.0MB 41.5MB/s \n",
            "\u001b[?25hRequirement already satisfied: pandas in /usr/local/lib/python3.6/dist-packages (from hvplot) (0.25.3)\n",
            "Requirement already satisfied: Jinja2>=2.7 in /usr/local/lib/python3.6/dist-packages (from bokeh>=1.0.0->hvplot) (2.10.3)\n",
            "Requirement already satisfied: packaging>=16.8 in /usr/local/lib/python3.6/dist-packages (from bokeh>=1.0.0->hvplot) (19.2)\n",
            "Requirement already satisfied: PyYAML>=3.10 in /usr/local/lib/python3.6/dist-packages (from bokeh>=1.0.0->hvplot) (3.13)\n",
            "Requirement already satisfied: pillow>=4.0 in /usr/local/lib/python3.6/dist-packages (from bokeh>=1.0.0->hvplot) (4.3.0)\n",
            "Requirement already satisfied: python-dateutil>=2.1 in /usr/local/lib/python3.6/dist-packages (from bokeh>=1.0.0->hvplot) (2.6.1)\n",
            "Requirement already satisfied: tornado>=4.3 in /usr/local/lib/python3.6/dist-packages (from bokeh>=1.0.0->hvplot) (4.5.3)\n",
            "Requirement already satisfied: numpy>=1.7.1 in /usr/local/lib/python3.6/dist-packages (from bokeh>=1.0.0->hvplot) (1.17.4)\n",
            "Requirement already satisfied: six>=1.5.2 in /usr/local/lib/python3.6/dist-packages (from bokeh>=1.0.0->hvplot) (1.12.0)\n",
            "Collecting pyct>=0.4.4\n",
            "  Downloading https://files.pythonhosted.org/packages/eb/76/cdf8ba7edc7be2a26d418ff8d1ff695a7ac024761bda1ad6f8e269a90434/pyct-0.4.6-py2.py3-none-any.whl\n",
            "Collecting param>=1.7.0\n",
            "\u001b[?25l  Downloading https://files.pythonhosted.org/packages/09/56/82754e08729b787748a5a0c9e347704caa68c345ee18728bc997aa19f97c/param-1.9.2-py2.py3-none-any.whl (70kB)\n",
            "\u001b[K     |████████████████████████████████| 71kB 9.1MB/s \n",
            "\u001b[?25hCollecting pyviz-comms>=0.7.2\n",
            "  Downloading https://files.pythonhosted.org/packages/9d/66/77220e2da76b65da0e6daaa30091062f569935deb3ae8f4de03533496800/pyviz_comms-0.7.2-py2.py3-none-any.whl\n",
            "Requirement already satisfied: pytz>=2017.2 in /usr/local/lib/python3.6/dist-packages (from pandas->hvplot) (2018.9)\n",
            "Requirement already satisfied: MarkupSafe>=0.23 in /usr/local/lib/python3.6/dist-packages (from Jinja2>=2.7->bokeh>=1.0.0->hvplot) (1.1.1)\n",
            "Requirement already satisfied: pyparsing>=2.0.2 in /usr/local/lib/python3.6/dist-packages (from packaging>=16.8->bokeh>=1.0.0->hvplot) (2.4.5)\n",
            "Requirement already satisfied: olefile in /usr/local/lib/python3.6/dist-packages (from pillow>=4.0->bokeh>=1.0.0->hvplot) (0.46)\n",
            "Installing collected packages: param, pyct, colorcet, pyviz-comms, holoviews, hvplot\n",
            "Successfully installed colorcet-2.0.2 holoviews-1.12.7 hvplot-0.5.2 param-1.9.2 pyct-0.4.6 pyviz-comms-0.7.2\n"
          ],
          "name": "stdout"
        }
      ]
    },
    {
      "cell_type": "code",
      "metadata": {
        "id": "WqkkvA3faEuF",
        "colab_type": "code",
        "outputId": "f5ed26f2-1506-45dc-a590-803064a6ab85",
        "colab": {
          "base_uri": "https://localhost:8080/",
          "height": 296
        }
      },
      "source": [
        "# If you have 2 features, you can plot it on a 2D scatter plot\n",
        "X.plot.scatter('Annual Income (k$)', 'Spending Score (1-100)')"
      ],
      "execution_count": 0,
      "outputs": [
        {
          "output_type": "execute_result",
          "data": {
            "text/plain": [
              "<matplotlib.axes._subplots.AxesSubplot at 0x7f5697713128>"
            ]
          },
          "metadata": {
            "tags": []
          },
          "execution_count": 15
        },
        {
          "output_type": "display_data",
          "data": {
            "image/png": "[encoded data removed]",
            "text/plain": [
              "<Figure size 432x288 with 1 Axes>"
            ]
          },
          "metadata": {
            "tags": []
          }
        }
      ]
    },
    {
      "cell_type": "markdown",
      "metadata": {
        "id": "cYdb620Teh-4",
        "colab_type": "text"
      },
      "source": [
        "### Choosing Optimal *k*"
      ]
    },
    {
      "cell_type": "code",
      "metadata": {
        "id": "qe3aWEI0ehjG",
        "colab_type": "code",
        "outputId": "164be95e-1156-4fea-b573-bbbddedd7c06",
        "colab": {
          "base_uri": "https://localhost:8080/",
          "height": 282
        }
      },
      "source": [
        "# get the sum of squared errors and find where the reduction of the errors are saturated with the increase of k\n",
        "squared_errors = []\n",
        "\n",
        "for num_iter in range(1,21):\n",
        "  km = KMeans(n_clusters=num_iter, random_state=42)\n",
        "  km.fit(X)\n",
        "  squared_errors.append(km.inertia_)\n",
        "#trying to iterate from 1 to 20\n",
        "# comparing wcss\n",
        "# check for the best k to use\n",
        "plt.plot(squared_errors, marker = 'o')"
      ],
      "execution_count": 0,
      "outputs": [
        {
          "output_type": "execute_result",
          "data": {
            "text/plain": [
              "[<matplotlib.lines.Line2D at 0x7f56956ba160>]"
            ]
          },
          "metadata": {
            "tags": []
          },
          "execution_count": 16
        },
        {
          "output_type": "display_data",
          "data": {
            "image/png": "[encoded data removed]",
            "text/plain": [
              "<Figure size 432x288 with 1 Axes>"
            ]
          },
          "metadata": {
            "tags": []
          }
        }
      ]
    },
    {
      "cell_type": "markdown",
      "metadata": {
        "id": "ZYTzOIoVerNG",
        "colab_type": "text"
      },
      "source": [
        "Using the elbow method, I decided to use *k=5*. But i wanted to use 4, so changed k=4."
      ]
    },
    {
      "cell_type": "code",
      "metadata": {
        "id": "l8QUoI4DX7Nf",
        "colab_type": "code",
        "colab": {}
      },
      "source": [
        "# Clustering using KMeans. We choose 5 clusters\n",
        "km = KMeans(n_clusters=4, random_state=42)\n",
        "\n",
        "# Fit all data to model; so all X\n",
        "km.fit(X)\n",
        "\n",
        "# Get labels\n",
        "labels = km.predict(X)\n",
        "\n",
        "# Create new dataframe with features and labels\n",
        "new_data = X.copy()\n",
        "\n",
        "# Add labels to new_data dataframe\n",
        "new_data['labels'] = labels"
      ],
      "execution_count": 0,
      "outputs": []
    },
    {
      "cell_type": "code",
      "metadata": {
        "id": "1gCNHjXlZQBo",
        "colab_type": "code",
        "outputId": "997e6a2d-6d02-4000-eb77-befd3059705d",
        "colab": {
          "base_uri": "https://localhost:8080/",
          "height": 204
        }
      },
      "source": [
        "new_data.head()"
      ],
      "execution_count": 0,
      "outputs": [
        {
          "output_type": "execute_result",
          "data": {
            "text/html": [
              "<div>\n",
              "<style scoped>\n",
              "    .dataframe tbody tr th:only-of-type {\n",
              "        vertical-align: middle;\n",
              "    }\n",
              "\n",
              "    .dataframe tbody tr th {\n",
              "        vertical-align: top;\n",
              "    }\n",
              "\n",
              "    .dataframe thead th {\n",
              "        text-align: right;\n",
              "    }\n",
              "</style>\n",
              "<table border=\"1\" class=\"dataframe\">\n",
              "  <thead>\n",
              "    <tr style=\"text-align: right;\">\n",
              "      <th></th>\n",
              "      <th>Annual Income (k$)</th>\n",
              "      <th>Spending Score (1-100)</th>\n",
              "      <th>labels</th>\n",
              "    </tr>\n",
              "  </thead>\n",
              "  <tbody>\n",
              "    <tr>\n",
              "      <th>0</th>\n",
              "      <td>15</td>\n",
              "      <td>39</td>\n",
              "      <td>0</td>\n",
              "    </tr>\n",
              "    <tr>\n",
              "      <th>1</th>\n",
              "      <td>15</td>\n",
              "      <td>81</td>\n",
              "      <td>3</td>\n",
              "    </tr>\n",
              "    <tr>\n",
              "      <th>2</th>\n",
              "      <td>16</td>\n",
              "      <td>6</td>\n",
              "      <td>0</td>\n",
              "    </tr>\n",
              "    <tr>\n",
              "      <th>3</th>\n",
              "      <td>16</td>\n",
              "      <td>77</td>\n",
              "      <td>3</td>\n",
              "    </tr>\n",
              "    <tr>\n",
              "      <th>4</th>\n",
              "      <td>17</td>\n",
              "      <td>40</td>\n",
              "      <td>0</td>\n",
              "    </tr>\n",
              "  </tbody>\n",
              "</table>\n",
              "</div>"
            ],
            "text/plain": [
              "   Annual Income (k$)  Spending Score (1-100)  labels\n",
              "0                  15                      39       0\n",
              "1                  15                      81       3\n",
              "2                  16                       6       0\n",
              "3                  16                      77       3\n",
              "4                  17                      40       0"
            ]
          },
          "metadata": {
            "tags": []
          },
          "execution_count": 19
        }
      ]
    },
    {
      "cell_type": "markdown",
      "metadata": {
        "id": "8jGkTtvdbGeO",
        "colab_type": "text"
      },
      "source": [
        "### Plot Centers and labels"
      ]
    },
    {
      "cell_type": "code",
      "metadata": {
        "id": "ptvhMiDHZSX2",
        "colab_type": "code",
        "outputId": "55baab0d-9f43-4af7-8c69-970247d38cf6",
        "colab": {
          "base_uri": "https://localhost:8080/",
          "height": 621
        }
      },
      "source": [
        "# Plot data points and colorize based on label\n",
        "new_data.plot.scatter(x='Annual Income (k$)', \n",
        "                      y='Spending Score (1-100)', \n",
        "                      c='labels', \n",
        "                      cmap='viridis',\n",
        "                      figsize=(20, 10))\n",
        "\n",
        "# Get cluster centers\n",
        "# x axis is income, y axis is spending score\n",
        "centers = km.cluster_centers_\n",
        "plt.scatter(centers[:,0],centers[:,1], s=200, color='black')"
      ],
      "execution_count": 0,
      "outputs": [
        {
          "output_type": "execute_result",
          "data": {
            "text/plain": [
              "<matplotlib.collections.PathCollection at 0x7f569555dda0>"
            ]
          },
          "metadata": {
            "tags": []
          },
          "execution_count": 21
        },
        {
          "output_type": "display_data",
          "data": {
            "image/png": "[encoded data removed]",
            "text/plain": [
              "<Figure size 1440x720 with 2 Axes>"
            ]
          },
          "metadata": {
            "tags": []
          }
        }
      ]
    },
    {
      "cell_type": "markdown",
      "metadata": {
        "id": "I-FwRETgaoKT",
        "colab_type": "text"
      },
      "source": [
        "# Deep Dive to each cluster"
      ]
    },
    {
      "cell_type": "code",
      "metadata": {
        "id": "DjCzSJYLc6Kv",
        "colab_type": "code",
        "outputId": "a5194b01-7124-4cc4-c8c8-2e692a89ef17",
        "colab": {
          "base_uri": "https://localhost:8080/",
          "height": 297
        }
      },
      "source": [
        "# Cluster 0\n",
        "cluster_0 = new_data[new_data['labels']==0]\n",
        "cluster_0.describe()"
      ],
      "execution_count": 0,
      "outputs": [
        {
          "output_type": "execute_result",
          "data": {
            "text/html": [
              "<div>\n",
              "<style scoped>\n",
              "    .dataframe tbody tr th:only-of-type {\n",
              "        vertical-align: middle;\n",
              "    }\n",
              "\n",
              "    .dataframe tbody tr th {\n",
              "        vertical-align: top;\n",
              "    }\n",
              "\n",
              "    .dataframe thead th {\n",
              "        text-align: right;\n",
              "    }\n",
              "</style>\n",
              "<table border=\"1\" class=\"dataframe\">\n",
              "  <thead>\n",
              "    <tr style=\"text-align: right;\">\n",
              "      <th></th>\n",
              "      <th>Annual Income (k$)</th>\n",
              "      <th>Spending Score (1-100)</th>\n",
              "      <th>labels</th>\n",
              "    </tr>\n",
              "  </thead>\n",
              "  <tbody>\n",
              "    <tr>\n",
              "      <th>count</th>\n",
              "      <td>23.000000</td>\n",
              "      <td>23.000000</td>\n",
              "      <td>23.0</td>\n",
              "    </tr>\n",
              "    <tr>\n",
              "      <th>mean</th>\n",
              "      <td>26.304348</td>\n",
              "      <td>20.913043</td>\n",
              "      <td>0.0</td>\n",
              "    </tr>\n",
              "    <tr>\n",
              "      <th>std</th>\n",
              "      <td>7.893811</td>\n",
              "      <td>13.017167</td>\n",
              "      <td>0.0</td>\n",
              "    </tr>\n",
              "    <tr>\n",
              "      <th>min</th>\n",
              "      <td>15.000000</td>\n",
              "      <td>3.000000</td>\n",
              "      <td>0.0</td>\n",
              "    </tr>\n",
              "    <tr>\n",
              "      <th>25%</th>\n",
              "      <td>19.500000</td>\n",
              "      <td>9.500000</td>\n",
              "      <td>0.0</td>\n",
              "    </tr>\n",
              "    <tr>\n",
              "      <th>50%</th>\n",
              "      <td>25.000000</td>\n",
              "      <td>17.000000</td>\n",
              "      <td>0.0</td>\n",
              "    </tr>\n",
              "    <tr>\n",
              "      <th>75%</th>\n",
              "      <td>33.000000</td>\n",
              "      <td>33.500000</td>\n",
              "      <td>0.0</td>\n",
              "    </tr>\n",
              "    <tr>\n",
              "      <th>max</th>\n",
              "      <td>39.000000</td>\n",
              "      <td>40.000000</td>\n",
              "      <td>0.0</td>\n",
              "    </tr>\n",
              "  </tbody>\n",
              "</table>\n",
              "</div>"
            ],
            "text/plain": [
              "       Annual Income (k$)  Spending Score (1-100)  labels\n",
              "count           23.000000               23.000000    23.0\n",
              "mean            26.304348               20.913043     0.0\n",
              "std              7.893811               13.017167     0.0\n",
              "min             15.000000                3.000000     0.0\n",
              "25%             19.500000                9.500000     0.0\n",
              "50%             25.000000               17.000000     0.0\n",
              "75%             33.000000               33.500000     0.0\n",
              "max             39.000000               40.000000     0.0"
            ]
          },
          "metadata": {
            "tags": []
          },
          "execution_count": 22
        }
      ]
    },
    {
      "cell_type": "markdown",
      "metadata": {
        "id": "hnXVR-YRdgss",
        "colab_type": "text"
      },
      "source": [
        "Cluster 0: Average Spender (Medium Income and Spender)"
      ]
    },
    {
      "cell_type": "code",
      "metadata": {
        "id": "GjJcGRJebtu6",
        "colab_type": "code",
        "outputId": "563599e4-4b49-42ea-aa1a-38ea870328d4",
        "colab": {
          "base_uri": "https://localhost:8080/",
          "height": 297
        }
      },
      "source": [
        "# Cluster 1 \n",
        "cluster_1 = new_data[new_data['labels']==1]\n",
        "cluster_1.describe()"
      ],
      "execution_count": 0,
      "outputs": [
        {
          "output_type": "execute_result",
          "data": {
            "text/html": [
              "<div>\n",
              "<style scoped>\n",
              "    .dataframe tbody tr th:only-of-type {\n",
              "        vertical-align: middle;\n",
              "    }\n",
              "\n",
              "    .dataframe tbody tr th {\n",
              "        vertical-align: top;\n",
              "    }\n",
              "\n",
              "    .dataframe thead th {\n",
              "        text-align: right;\n",
              "    }\n",
              "</style>\n",
              "<table border=\"1\" class=\"dataframe\">\n",
              "  <thead>\n",
              "    <tr style=\"text-align: right;\">\n",
              "      <th></th>\n",
              "      <th>Annual Income (k$)</th>\n",
              "      <th>Spending Score (1-100)</th>\n",
              "      <th>labels</th>\n",
              "    </tr>\n",
              "  </thead>\n",
              "  <tbody>\n",
              "    <tr>\n",
              "      <th>count</th>\n",
              "      <td>35.000000</td>\n",
              "      <td>35.000000</td>\n",
              "      <td>35.0</td>\n",
              "    </tr>\n",
              "    <tr>\n",
              "      <th>mean</th>\n",
              "      <td>88.200000</td>\n",
              "      <td>17.114286</td>\n",
              "      <td>1.0</td>\n",
              "    </tr>\n",
              "    <tr>\n",
              "      <th>std</th>\n",
              "      <td>16.399067</td>\n",
              "      <td>9.952154</td>\n",
              "      <td>0.0</td>\n",
              "    </tr>\n",
              "    <tr>\n",
              "      <th>min</th>\n",
              "      <td>70.000000</td>\n",
              "      <td>1.000000</td>\n",
              "      <td>1.0</td>\n",
              "    </tr>\n",
              "    <tr>\n",
              "      <th>25%</th>\n",
              "      <td>77.500000</td>\n",
              "      <td>10.000000</td>\n",
              "      <td>1.0</td>\n",
              "    </tr>\n",
              "    <tr>\n",
              "      <th>50%</th>\n",
              "      <td>85.000000</td>\n",
              "      <td>16.000000</td>\n",
              "      <td>1.0</td>\n",
              "    </tr>\n",
              "    <tr>\n",
              "      <th>75%</th>\n",
              "      <td>97.500000</td>\n",
              "      <td>23.500000</td>\n",
              "      <td>1.0</td>\n",
              "    </tr>\n",
              "    <tr>\n",
              "      <th>max</th>\n",
              "      <td>137.000000</td>\n",
              "      <td>39.000000</td>\n",
              "      <td>1.0</td>\n",
              "    </tr>\n",
              "  </tbody>\n",
              "</table>\n",
              "</div>"
            ],
            "text/plain": [
              "       Annual Income (k$)  Spending Score (1-100)  labels\n",
              "count           35.000000               35.000000    35.0\n",
              "mean            88.200000               17.114286     1.0\n",
              "std             16.399067                9.952154     0.0\n",
              "min             70.000000                1.000000     1.0\n",
              "25%             77.500000               10.000000     1.0\n",
              "50%             85.000000               16.000000     1.0\n",
              "75%             97.500000               23.500000     1.0\n",
              "max            137.000000               39.000000     1.0"
            ]
          },
          "metadata": {
            "tags": []
          },
          "execution_count": 43
        }
      ]
    },
    {
      "cell_type": "markdown",
      "metadata": {
        "id": "TAu_kbMvdl0C",
        "colab_type": "text"
      },
      "source": [
        "Cluster 1: Stingy Person (High Income and Low Spend)"
      ]
    },
    {
      "cell_type": "code",
      "metadata": {
        "id": "H5ssZ-z9bvLZ",
        "colab_type": "code",
        "outputId": "c64aee2d-3744-4341-8c05-7637ab23920c",
        "colab": {
          "base_uri": "https://localhost:8080/",
          "height": 297
        }
      },
      "source": [
        "# Cluster 2\n",
        "cluster_2 = new_data[new_data['labels']==2]\n",
        "cluster_2.describe()"
      ],
      "execution_count": 0,
      "outputs": [
        {
          "output_type": "execute_result",
          "data": {
            "text/html": [
              "<div>\n",
              "<style scoped>\n",
              "    .dataframe tbody tr th:only-of-type {\n",
              "        vertical-align: middle;\n",
              "    }\n",
              "\n",
              "    .dataframe tbody tr th {\n",
              "        vertical-align: top;\n",
              "    }\n",
              "\n",
              "    .dataframe thead th {\n",
              "        text-align: right;\n",
              "    }\n",
              "</style>\n",
              "<table border=\"1\" class=\"dataframe\">\n",
              "  <thead>\n",
              "    <tr style=\"text-align: right;\">\n",
              "      <th></th>\n",
              "      <th>Annual Income (k$)</th>\n",
              "      <th>Spending Score (1-100)</th>\n",
              "      <th>labels</th>\n",
              "    </tr>\n",
              "  </thead>\n",
              "  <tbody>\n",
              "    <tr>\n",
              "      <th>count</th>\n",
              "      <td>23.000000</td>\n",
              "      <td>23.000000</td>\n",
              "      <td>23.0</td>\n",
              "    </tr>\n",
              "    <tr>\n",
              "      <th>mean</th>\n",
              "      <td>26.304348</td>\n",
              "      <td>20.913043</td>\n",
              "      <td>2.0</td>\n",
              "    </tr>\n",
              "    <tr>\n",
              "      <th>std</th>\n",
              "      <td>7.893811</td>\n",
              "      <td>13.017167</td>\n",
              "      <td>0.0</td>\n",
              "    </tr>\n",
              "    <tr>\n",
              "      <th>min</th>\n",
              "      <td>15.000000</td>\n",
              "      <td>3.000000</td>\n",
              "      <td>2.0</td>\n",
              "    </tr>\n",
              "    <tr>\n",
              "      <th>25%</th>\n",
              "      <td>19.500000</td>\n",
              "      <td>9.500000</td>\n",
              "      <td>2.0</td>\n",
              "    </tr>\n",
              "    <tr>\n",
              "      <th>50%</th>\n",
              "      <td>25.000000</td>\n",
              "      <td>17.000000</td>\n",
              "      <td>2.0</td>\n",
              "    </tr>\n",
              "    <tr>\n",
              "      <th>75%</th>\n",
              "      <td>33.000000</td>\n",
              "      <td>33.500000</td>\n",
              "      <td>2.0</td>\n",
              "    </tr>\n",
              "    <tr>\n",
              "      <th>max</th>\n",
              "      <td>39.000000</td>\n",
              "      <td>40.000000</td>\n",
              "      <td>2.0</td>\n",
              "    </tr>\n",
              "  </tbody>\n",
              "</table>\n",
              "</div>"
            ],
            "text/plain": [
              "       Annual Income (k$)  Spending Score (1-100)  labels\n",
              "count           23.000000               23.000000    23.0\n",
              "mean            26.304348               20.913043     2.0\n",
              "std              7.893811               13.017167     0.0\n",
              "min             15.000000                3.000000     2.0\n",
              "25%             19.500000                9.500000     2.0\n",
              "50%             25.000000               17.000000     2.0\n",
              "75%             33.000000               33.500000     2.0\n",
              "max             39.000000               40.000000     2.0"
            ]
          },
          "metadata": {
            "tags": []
          },
          "execution_count": 44
        }
      ]
    },
    {
      "cell_type": "markdown",
      "metadata": {
        "id": "_5ypez6tdxis",
        "colab_type": "text"
      },
      "source": [
        "Cluster 2: Living within means (Low Income, Low Spend)"
      ]
    },
    {
      "cell_type": "code",
      "metadata": {
        "id": "-N6iG4cQctfi",
        "colab_type": "code",
        "outputId": "a5948f7a-29c2-43c7-f7be-96d59f9f7fa4",
        "colab": {
          "base_uri": "https://localhost:8080/",
          "height": 297
        }
      },
      "source": [
        "# Cluster 3\n",
        "cluster_3 = new_data[new_data['labels']==3]\n",
        "cluster_3.describe()"
      ],
      "execution_count": 0,
      "outputs": [
        {
          "output_type": "execute_result",
          "data": {
            "text/html": [
              "<div>\n",
              "<style scoped>\n",
              "    .dataframe tbody tr th:only-of-type {\n",
              "        vertical-align: middle;\n",
              "    }\n",
              "\n",
              "    .dataframe tbody tr th {\n",
              "        vertical-align: top;\n",
              "    }\n",
              "\n",
              "    .dataframe thead th {\n",
              "        text-align: right;\n",
              "    }\n",
              "</style>\n",
              "<table border=\"1\" class=\"dataframe\">\n",
              "  <thead>\n",
              "    <tr style=\"text-align: right;\">\n",
              "      <th></th>\n",
              "      <th>Annual Income (k$)</th>\n",
              "      <th>Spending Score (1-100)</th>\n",
              "      <th>labels</th>\n",
              "    </tr>\n",
              "  </thead>\n",
              "  <tbody>\n",
              "    <tr>\n",
              "      <th>count</th>\n",
              "      <td>22.000000</td>\n",
              "      <td>22.000000</td>\n",
              "      <td>22.0</td>\n",
              "    </tr>\n",
              "    <tr>\n",
              "      <th>mean</th>\n",
              "      <td>25.727273</td>\n",
              "      <td>79.363636</td>\n",
              "      <td>3.0</td>\n",
              "    </tr>\n",
              "    <tr>\n",
              "      <th>std</th>\n",
              "      <td>7.566731</td>\n",
              "      <td>10.504174</td>\n",
              "      <td>0.0</td>\n",
              "    </tr>\n",
              "    <tr>\n",
              "      <th>min</th>\n",
              "      <td>15.000000</td>\n",
              "      <td>61.000000</td>\n",
              "      <td>3.0</td>\n",
              "    </tr>\n",
              "    <tr>\n",
              "      <th>25%</th>\n",
              "      <td>19.250000</td>\n",
              "      <td>73.000000</td>\n",
              "      <td>3.0</td>\n",
              "    </tr>\n",
              "    <tr>\n",
              "      <th>50%</th>\n",
              "      <td>24.500000</td>\n",
              "      <td>77.000000</td>\n",
              "      <td>3.0</td>\n",
              "    </tr>\n",
              "    <tr>\n",
              "      <th>75%</th>\n",
              "      <td>32.250000</td>\n",
              "      <td>85.750000</td>\n",
              "      <td>3.0</td>\n",
              "    </tr>\n",
              "    <tr>\n",
              "      <th>max</th>\n",
              "      <td>39.000000</td>\n",
              "      <td>99.000000</td>\n",
              "      <td>3.0</td>\n",
              "    </tr>\n",
              "  </tbody>\n",
              "</table>\n",
              "</div>"
            ],
            "text/plain": [
              "       Annual Income (k$)  Spending Score (1-100)  labels\n",
              "count           22.000000               22.000000    22.0\n",
              "mean            25.727273               79.363636     3.0\n",
              "std              7.566731               10.504174     0.0\n",
              "min             15.000000               61.000000     3.0\n",
              "25%             19.250000               73.000000     3.0\n",
              "50%             24.500000               77.000000     3.0\n",
              "75%             32.250000               85.750000     3.0\n",
              "max             39.000000               99.000000     3.0"
            ]
          },
          "metadata": {
            "tags": []
          },
          "execution_count": 45
        }
      ]
    },
    {
      "cell_type": "markdown",
      "metadata": {
        "id": "6AudyQ7Pd1TP",
        "colab_type": "text"
      },
      "source": [
        "Cluster 3: Overspender (Low Income, High Spender)"
      ]
    },
    {
      "cell_type": "code",
      "metadata": {
        "id": "u_Kuic6kcvmu",
        "colab_type": "code",
        "outputId": "8e0ecad8-b771-4a80-e27b-600437dacb51",
        "colab": {
          "base_uri": "https://localhost:8080/",
          "height": 297
        }
      },
      "source": [
        "# Cluster 4\n",
        "cluster_4 = new_data[new_data['labels']==4]\n",
        "cluster_4.describe()"
      ],
      "execution_count": 0,
      "outputs": [
        {
          "output_type": "execute_result",
          "data": {
            "text/html": [
              "<div>\n",
              "<style scoped>\n",
              "    .dataframe tbody tr th:only-of-type {\n",
              "        vertical-align: middle;\n",
              "    }\n",
              "\n",
              "    .dataframe tbody tr th {\n",
              "        vertical-align: top;\n",
              "    }\n",
              "\n",
              "    .dataframe thead th {\n",
              "        text-align: right;\n",
              "    }\n",
              "</style>\n",
              "<table border=\"1\" class=\"dataframe\">\n",
              "  <thead>\n",
              "    <tr style=\"text-align: right;\">\n",
              "      <th></th>\n",
              "      <th>Annual Income (k$)</th>\n",
              "      <th>Spending Score (1-100)</th>\n",
              "      <th>labels</th>\n",
              "    </tr>\n",
              "  </thead>\n",
              "  <tbody>\n",
              "    <tr>\n",
              "      <th>count</th>\n",
              "      <td>39.000000</td>\n",
              "      <td>39.000000</td>\n",
              "      <td>39.0</td>\n",
              "    </tr>\n",
              "    <tr>\n",
              "      <th>mean</th>\n",
              "      <td>86.538462</td>\n",
              "      <td>82.128205</td>\n",
              "      <td>4.0</td>\n",
              "    </tr>\n",
              "    <tr>\n",
              "      <th>std</th>\n",
              "      <td>16.312485</td>\n",
              "      <td>9.364489</td>\n",
              "      <td>0.0</td>\n",
              "    </tr>\n",
              "    <tr>\n",
              "      <th>min</th>\n",
              "      <td>69.000000</td>\n",
              "      <td>63.000000</td>\n",
              "      <td>4.0</td>\n",
              "    </tr>\n",
              "    <tr>\n",
              "      <th>25%</th>\n",
              "      <td>75.500000</td>\n",
              "      <td>74.500000</td>\n",
              "      <td>4.0</td>\n",
              "    </tr>\n",
              "    <tr>\n",
              "      <th>50%</th>\n",
              "      <td>79.000000</td>\n",
              "      <td>83.000000</td>\n",
              "      <td>4.0</td>\n",
              "    </tr>\n",
              "    <tr>\n",
              "      <th>75%</th>\n",
              "      <td>95.000000</td>\n",
              "      <td>90.000000</td>\n",
              "      <td>4.0</td>\n",
              "    </tr>\n",
              "    <tr>\n",
              "      <th>max</th>\n",
              "      <td>137.000000</td>\n",
              "      <td>97.000000</td>\n",
              "      <td>4.0</td>\n",
              "    </tr>\n",
              "  </tbody>\n",
              "</table>\n",
              "</div>"
            ],
            "text/plain": [
              "       Annual Income (k$)  Spending Score (1-100)  labels\n",
              "count           39.000000               39.000000    39.0\n",
              "mean            86.538462               82.128205     4.0\n",
              "std             16.312485                9.364489     0.0\n",
              "min             69.000000               63.000000     4.0\n",
              "25%             75.500000               74.500000     4.0\n",
              "50%             79.000000               83.000000     4.0\n",
              "75%             95.000000               90.000000     4.0\n",
              "max            137.000000               97.000000     4.0"
            ]
          },
          "metadata": {
            "tags": []
          },
          "execution_count": 46
        }
      ]
    },
    {
      "cell_type": "markdown",
      "metadata": {
        "id": "izqksJNBd5sp",
        "colab_type": "text"
      },
      "source": [
        "Cluster 4: Big Spender (High Income and Spending)"
      ]
    },
    {
      "cell_type": "markdown",
      "metadata": {
        "id": "beVy_W7J3tTG",
        "colab_type": "text"
      },
      "source": [
        "# Explore [Agglomerative Clustering](https://colab.research.google.com/drive/1IcjI_ac1gNipwTZv3WYYzeQNx-arqRl7)\n"
      ]
    },
    {
      "cell_type": "markdown",
      "metadata": {
        "id": "qivPXosmD6ay",
        "colab_type": "text"
      },
      "source": [
        "# Homework: Perform Clustering on [Credit Card Dataset](https://drive.google.com/file/d/1EtH7Y4Y8zVcUWj9y3EnU1i7Vx2By2_LI/view?usp=sharing)."
      ]
    }
  ]
}