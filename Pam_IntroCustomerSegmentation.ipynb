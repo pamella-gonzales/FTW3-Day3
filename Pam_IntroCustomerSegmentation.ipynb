{
  "nbformat": 4,
  "nbformat_minor": 0,
  "metadata": {
    "colab": {
      "name": "Pam IntroCustomerSegmentation.ipynb",
      "provenance": [],
      "collapsed_sections": [],
      "toc_visible": true,
      "include_colab_link": true
    },
    "kernelspec": {
      "name": "python3",
      "display_name": "Python 3"
    }
  },
  "cells": [
    {
      "cell_type": "markdown",
      "metadata": {
        "id": "view-in-github",
        "colab_type": "text"
      },
      "source": [
        "<a href=\"https://colab.research.google.com/github/pamella-gonzales/FTW3-Day3/blob/master/Pam_IntroCustomerSegmentation.ipynb\" target=\"_parent\"><img src=\"https://colab.research.google.com/assets/colab-badge.svg\" alt=\"Open In Colab\"/></a>"
      ]
    },
    {
      "cell_type": "markdown",
      "metadata": {
        "id": "gcjimI-l826T",
        "colab_type": "text"
      },
      "source": [
        "# Customer Segmentation"
      ]
    },
    {
      "cell_type": "markdown",
      "metadata": {
        "id": "oENhLmDh9ANU",
        "colab_type": "text"
      },
      "source": [
        "When it comes to finding out who your best customers are, the old RFM matrix principle is the best. \n",
        "\n",
        "RFM stands for *Recency*, *Frequency* and *Monetary.*   \n",
        "\n",
        "It is a customer segmentation technique that uses past purchase behavior to divide customers into groups.  \n",
        "\n",
        "\n",
        "### RFM Score Calculations  \n",
        "\n",
        "**RECENCY (R)**: Days since last purchase  \n",
        "**FREQUENCY (F)**: Total number of purchases  \n",
        "**MONETARY VALUE (M)**: Total money this customer spent  \n",
        "\n",
        "It is based on the marketing axiom that **80% of your business comes from 20% of your customers**.\n",
        "\n",
        "RFM helps to identify customers who are more likely to respond to promotions by segmenting them into various categories.\n"
      ]
    },
    {
      "cell_type": "markdown",
      "metadata": {
        "id": "sucq46l6Md0J",
        "colab_type": "text"
      },
      "source": [
        "### Import Packages"
      ]
    },
    {
      "cell_type": "code",
      "metadata": {
        "id": "Ta3PKLpXMU5x",
        "colab_type": "code",
        "colab": {}
      },
      "source": [
        "# !pip install xlrd\n",
        "# import package\n",
        "import pandas as pd\n",
        "import datetime\n",
        "\n",
        "# suppress error warnings\n",
        "import warnings\n",
        "warnings.filterwarnings('ignore')\n",
        "\n",
        "from google.colab import files"
      ],
      "execution_count": 0,
      "outputs": []
    },
    {
      "cell_type": "markdown",
      "metadata": {
        "id": "wZFNlIWQMb9k",
        "colab_type": "text"
      },
      "source": [
        "### Read Data"
      ]
    },
    {
      "cell_type": "code",
      "metadata": {
        "id": "idYRvIIK8tbk",
        "colab_type": "code",
        "outputId": "b412574e-8257-4216-abbe-81c852e48e99",
        "colab": {
          "base_uri": "https://localhost:8080/",
          "height": 289
        }
      },
      "source": [
        "# load dataset\n",
        "# data = pd.read_excel('http://archive.ics.uci.edu/ml/machine-learning-databases/00352/Online%20Retail.xlsx')\n",
        "data = pd.read_excel('Online Retail.xlsx')\n",
        "\n",
        "# Define Sales Column\n",
        "data['Sales'] = data['Quantity'] * data['UnitPrice']\n",
        "data.head()\n"
      ],
      "execution_count": 0,
      "outputs": [
        {
          "output_type": "execute_result",
          "data": {
            "text/html": [
              "<div>\n",
              "<style scoped>\n",
              "    .dataframe tbody tr th:only-of-type {\n",
              "        vertical-align: middle;\n",
              "    }\n",
              "\n",
              "    .dataframe tbody tr th {\n",
              "        vertical-align: top;\n",
              "    }\n",
              "\n",
              "    .dataframe thead th {\n",
              "        text-align: right;\n",
              "    }\n",
              "</style>\n",
              "<table border=\"1\" class=\"dataframe\">\n",
              "  <thead>\n",
              "    <tr style=\"text-align: right;\">\n",
              "      <th></th>\n",
              "      <th>InvoiceNo</th>\n",
              "      <th>StockCode</th>\n",
              "      <th>Description</th>\n",
              "      <th>Quantity</th>\n",
              "      <th>InvoiceDate</th>\n",
              "      <th>UnitPrice</th>\n",
              "      <th>CustomerID</th>\n",
              "      <th>Country</th>\n",
              "      <th>Sales</th>\n",
              "    </tr>\n",
              "  </thead>\n",
              "  <tbody>\n",
              "    <tr>\n",
              "      <th>0</th>\n",
              "      <td>536365</td>\n",
              "      <td>85123A</td>\n",
              "      <td>WHITE HANGING HEART T-LIGHT HOLDER</td>\n",
              "      <td>6</td>\n",
              "      <td>2010-12-01 08:26:00</td>\n",
              "      <td>2.55</td>\n",
              "      <td>17850.0</td>\n",
              "      <td>United Kingdom</td>\n",
              "      <td>15.30</td>\n",
              "    </tr>\n",
              "    <tr>\n",
              "      <th>1</th>\n",
              "      <td>536365</td>\n",
              "      <td>71053</td>\n",
              "      <td>WHITE METAL LANTERN</td>\n",
              "      <td>6</td>\n",
              "      <td>2010-12-01 08:26:00</td>\n",
              "      <td>3.39</td>\n",
              "      <td>17850.0</td>\n",
              "      <td>United Kingdom</td>\n",
              "      <td>20.34</td>\n",
              "    </tr>\n",
              "    <tr>\n",
              "      <th>2</th>\n",
              "      <td>536365</td>\n",
              "      <td>84406B</td>\n",
              "      <td>CREAM CUPID HEARTS COAT HANGER</td>\n",
              "      <td>8</td>\n",
              "      <td>2010-12-01 08:26:00</td>\n",
              "      <td>2.75</td>\n",
              "      <td>17850.0</td>\n",
              "      <td>United Kingdom</td>\n",
              "      <td>22.00</td>\n",
              "    </tr>\n",
              "    <tr>\n",
              "      <th>3</th>\n",
              "      <td>536365</td>\n",
              "      <td>84029G</td>\n",
              "      <td>KNITTED UNION FLAG HOT WATER BOTTLE</td>\n",
              "      <td>6</td>\n",
              "      <td>2010-12-01 08:26:00</td>\n",
              "      <td>3.39</td>\n",
              "      <td>17850.0</td>\n",
              "      <td>United Kingdom</td>\n",
              "      <td>20.34</td>\n",
              "    </tr>\n",
              "    <tr>\n",
              "      <th>4</th>\n",
              "      <td>536365</td>\n",
              "      <td>84029E</td>\n",
              "      <td>RED WOOLLY HOTTIE WHITE HEART.</td>\n",
              "      <td>6</td>\n",
              "      <td>2010-12-01 08:26:00</td>\n",
              "      <td>3.39</td>\n",
              "      <td>17850.0</td>\n",
              "      <td>United Kingdom</td>\n",
              "      <td>20.34</td>\n",
              "    </tr>\n",
              "  </tbody>\n",
              "</table>\n",
              "</div>"
            ],
            "text/plain": [
              "  InvoiceNo StockCode  ...         Country  Sales\n",
              "0    536365    85123A  ...  United Kingdom  15.30\n",
              "1    536365     71053  ...  United Kingdom  20.34\n",
              "2    536365    84406B  ...  United Kingdom  22.00\n",
              "3    536365    84029G  ...  United Kingdom  20.34\n",
              "4    536365    84029E  ...  United Kingdom  20.34\n",
              "\n",
              "[5 rows x 9 columns]"
            ]
          },
          "metadata": {
            "tags": []
          },
          "execution_count": 2
        }
      ]
    },
    {
      "cell_type": "markdown",
      "metadata": {
        "id": "SvO2r5ueN6vc",
        "colab_type": "text"
      },
      "source": [
        "### Create RFM Segments"
      ]
    },
    {
      "cell_type": "markdown",
      "metadata": {
        "id": "6KLRBRre5wZ7",
        "colab_type": "text"
      },
      "source": [
        "These are the the only 4 things we need to build our RFM segments:\n",
        "1. *customers* : feature that specifies your users,\n",
        "2. *dates* : dates of transactions\n",
        "3. *transactions* : transaction number\n",
        "4. *prices* : price of amount sold"
      ]
    },
    {
      "cell_type": "code",
      "metadata": {
        "id": "pBfoph1PHmRH",
        "colab_type": "code",
        "outputId": "f176800d-5308-49f1-a52c-ad2cef06cd45",
        "colab": {
          "base_uri": "https://localhost:8080/",
          "height": 34
        }
      },
      "source": [
        "data.shape"
      ],
      "execution_count": 0,
      "outputs": [
        {
          "output_type": "execute_result",
          "data": {
            "text/plain": [
              "(541909, 9)"
            ]
          },
          "metadata": {
            "tags": []
          },
          "execution_count": 3
        }
      ]
    },
    {
      "cell_type": "code",
      "metadata": {
        "id": "aqsk7p-d2HwL",
        "colab_type": "code",
        "colab": {}
      },
      "source": [
        "customers = 'CustomerID'\n",
        "dates = 'InvoiceDate'\n",
        "transactions = 'InvoiceNo'\n",
        "prices = 'Sales'"
      ],
      "execution_count": 0,
      "outputs": []
    },
    {
      "cell_type": "code",
      "metadata": {
        "id": "oLsowadTlBWU",
        "colab_type": "code",
        "colab": {}
      },
      "source": [
        "data['Description'] = data['Description'].str.strip()\n",
        "data.dropna(axis=0, subset=['InvoiceNo'], inplace=True)\n",
        "data['InvoiceNo'] = data['InvoiceNo'].astype('str')\n",
        "data = data[~data['InvoiceNo'].str.contains('C')]"
      ],
      "execution_count": 0,
      "outputs": []
    },
    {
      "cell_type": "code",
      "metadata": {
        "id": "MnDfwck-l4e4",
        "colab_type": "code",
        "outputId": "3865d959-1578-42cd-af1b-249094ec6b16",
        "colab": {
          "base_uri": "https://localhost:8080/",
          "height": 680
        }
      },
      "source": [
        "data.Country.drop_duplicates()"
      ],
      "execution_count": 0,
      "outputs": [
        {
          "output_type": "execute_result",
          "data": {
            "text/plain": [
              "0               United Kingdom\n",
              "26                      France\n",
              "197                  Australia\n",
              "385                Netherlands\n",
              "1109                   Germany\n",
              "1236                    Norway\n",
              "1404                      EIRE\n",
              "5320               Switzerland\n",
              "6421                     Spain\n",
              "6608                    Poland\n",
              "7134                  Portugal\n",
              "7214                     Italy\n",
              "7279                   Belgium\n",
              "7986                 Lithuania\n",
              "9783                     Japan\n",
              "14938                  Iceland\n",
              "20000          Channel Islands\n",
              "20017                  Denmark\n",
              "29732                   Cyprus\n",
              "30079                   Sweden\n",
              "34083                  Finland\n",
              "34293                  Austria\n",
              "38313                  Bahrain\n",
              "50791                   Israel\n",
              "69007                   Greece\n",
              "69623                Hong Kong\n",
              "70758                Singapore\n",
              "72985                  Lebanon\n",
              "89570     United Arab Emirates\n",
              "100810            Saudi Arabia\n",
              "103598          Czech Republic\n",
              "119191                  Canada\n",
              "152712             Unspecified\n",
              "157299                  Brazil\n",
              "164464                     USA\n",
              "168149      European Community\n",
              "217684                   Malta\n",
              "395472                     RSA\n",
              "Name: Country, dtype: object"
            ]
          },
          "metadata": {
            "tags": []
          },
          "execution_count": 6
        }
      ]
    },
    {
      "cell_type": "code",
      "metadata": {
        "id": "3Z-jL189lGaJ",
        "colab_type": "code",
        "colab": {}
      },
      "source": [
        "country = \"EIRE\"\n",
        "\n",
        "# Filter for a single country\n",
        "data_country = data[data.Country == country]"
      ],
      "execution_count": 0,
      "outputs": []
    },
    {
      "cell_type": "code",
      "metadata": {
        "id": "5RJgct3PMgew",
        "colab_type": "code",
        "colab": {}
      },
      "source": [
        "data = data_country\n",
        "\n",
        "NOW = datetime.datetime.now()\n",
        "\n",
        "# RFM Feature Engineering\n",
        "rfmTable = data.groupby(customers).agg({dates: lambda x: (NOW - x.max()).days, transactions: lambda x: len(x), prices: lambda x: x.sum()})\n",
        "rfmTable[dates] = rfmTable[dates].astype(int)\n",
        "rfmTable.rename(columns={dates: 'recency', \n",
        "                         transactions: 'frequency', \n",
        "                         prices: 'monetary_value'}, inplace=True)"
      ],
      "execution_count": 0,
      "outputs": []
    },
    {
      "cell_type": "code",
      "metadata": {
        "id": "YQGmAVWUOBUw",
        "colab_type": "code",
        "outputId": "e0057192-3135-49a1-867e-2c87481ae017",
        "colab": {
          "base_uri": "https://localhost:8080/",
          "height": 173
        }
      },
      "source": [
        "rfmTable.head()"
      ],
      "execution_count": 0,
      "outputs": [
        {
          "output_type": "execute_result",
          "data": {
            "text/html": [
              "<div>\n",
              "<style scoped>\n",
              "    .dataframe tbody tr th:only-of-type {\n",
              "        vertical-align: middle;\n",
              "    }\n",
              "\n",
              "    .dataframe tbody tr th {\n",
              "        vertical-align: top;\n",
              "    }\n",
              "\n",
              "    .dataframe thead th {\n",
              "        text-align: right;\n",
              "    }\n",
              "</style>\n",
              "<table border=\"1\" class=\"dataframe\">\n",
              "  <thead>\n",
              "    <tr style=\"text-align: right;\">\n",
              "      <th></th>\n",
              "      <th>recency</th>\n",
              "      <th>frequency</th>\n",
              "      <th>monetary_value</th>\n",
              "    </tr>\n",
              "    <tr>\n",
              "      <th>CustomerID</th>\n",
              "      <th></th>\n",
              "      <th></th>\n",
              "      <th></th>\n",
              "    </tr>\n",
              "  </thead>\n",
              "  <tbody>\n",
              "    <tr>\n",
              "      <th>14016.0</th>\n",
              "      <td>3087</td>\n",
              "      <td>161</td>\n",
              "      <td>4341.21</td>\n",
              "    </tr>\n",
              "    <tr>\n",
              "      <th>14156.0</th>\n",
              "      <td>2935</td>\n",
              "      <td>1400</td>\n",
              "      <td>117379.63</td>\n",
              "    </tr>\n",
              "    <tr>\n",
              "      <th>14911.0</th>\n",
              "      <td>2927</td>\n",
              "      <td>5677</td>\n",
              "      <td>143825.06</td>\n",
              "    </tr>\n",
              "  </tbody>\n",
              "</table>\n",
              "</div>"
            ],
            "text/plain": [
              "            recency  frequency  monetary_value\n",
              "CustomerID                                    \n",
              "14016.0        3087        161         4341.21\n",
              "14156.0        2935       1400       117379.63\n",
              "14911.0        2927       5677       143825.06"
            ]
          },
          "metadata": {
            "tags": []
          },
          "execution_count": 9
        }
      ]
    },
    {
      "cell_type": "code",
      "metadata": {
        "id": "w8p8VXj2IRTj",
        "colab_type": "code",
        "outputId": "1e369bee-f292-49e0-ecac-7ef6c2c195e6",
        "colab": {
          "base_uri": "https://localhost:8080/",
          "height": 34
        }
      },
      "source": [
        "rfmTable.shape"
      ],
      "execution_count": 0,
      "outputs": [
        {
          "output_type": "execute_result",
          "data": {
            "text/plain": [
              "(3, 3)"
            ]
          },
          "metadata": {
            "tags": []
          },
          "execution_count": 10
        }
      ]
    },
    {
      "cell_type": "markdown",
      "metadata": {
        "id": "LjJU0mgh6uRg",
        "colab_type": "text"
      },
      "source": [
        "### Segment Users Based on Quantiles \n",
        "\n",
        "The easiest way to split metrics into segments is by using quartiles.  \n",
        "\n",
        "1. This gives us a starting point for the detailed analysis.\n",
        "2. 4 segments are easy to understand and explain.\n"
      ]
    },
    {
      "cell_type": "code",
      "metadata": {
        "id": "c-rOYfZg7KRT",
        "colab_type": "code",
        "outputId": "b034ecaf-c93f-4039-a0df-40e1df36b748",
        "colab": {
          "base_uri": "https://localhost:8080/",
          "height": 297
        }
      },
      "source": [
        "quantiles = rfmTable.describe()\n",
        "quantiles"
      ],
      "execution_count": 0,
      "outputs": [
        {
          "output_type": "execute_result",
          "data": {
            "text/html": [
              "<div>\n",
              "<style scoped>\n",
              "    .dataframe tbody tr th:only-of-type {\n",
              "        vertical-align: middle;\n",
              "    }\n",
              "\n",
              "    .dataframe tbody tr th {\n",
              "        vertical-align: top;\n",
              "    }\n",
              "\n",
              "    .dataframe thead th {\n",
              "        text-align: right;\n",
              "    }\n",
              "</style>\n",
              "<table border=\"1\" class=\"dataframe\">\n",
              "  <thead>\n",
              "    <tr style=\"text-align: right;\">\n",
              "      <th></th>\n",
              "      <th>recency</th>\n",
              "      <th>frequency</th>\n",
              "      <th>monetary_value</th>\n",
              "    </tr>\n",
              "  </thead>\n",
              "  <tbody>\n",
              "    <tr>\n",
              "      <th>count</th>\n",
              "      <td>3.000000</td>\n",
              "      <td>3.000000</td>\n",
              "      <td>3.000000</td>\n",
              "    </tr>\n",
              "    <tr>\n",
              "      <th>mean</th>\n",
              "      <td>2983.000000</td>\n",
              "      <td>2412.666667</td>\n",
              "      <td>88515.300000</td>\n",
              "    </tr>\n",
              "    <tr>\n",
              "      <th>std</th>\n",
              "      <td>90.155421</td>\n",
              "      <td>2894.077458</td>\n",
              "      <td>74086.424279</td>\n",
              "    </tr>\n",
              "    <tr>\n",
              "      <th>min</th>\n",
              "      <td>2927.000000</td>\n",
              "      <td>161.000000</td>\n",
              "      <td>4341.210000</td>\n",
              "    </tr>\n",
              "    <tr>\n",
              "      <th>25%</th>\n",
              "      <td>2931.000000</td>\n",
              "      <td>780.500000</td>\n",
              "      <td>60860.420000</td>\n",
              "    </tr>\n",
              "    <tr>\n",
              "      <th>50%</th>\n",
              "      <td>2935.000000</td>\n",
              "      <td>1400.000000</td>\n",
              "      <td>117379.630000</td>\n",
              "    </tr>\n",
              "    <tr>\n",
              "      <th>75%</th>\n",
              "      <td>3011.000000</td>\n",
              "      <td>3538.500000</td>\n",
              "      <td>130602.345000</td>\n",
              "    </tr>\n",
              "    <tr>\n",
              "      <th>max</th>\n",
              "      <td>3087.000000</td>\n",
              "      <td>5677.000000</td>\n",
              "      <td>143825.060000</td>\n",
              "    </tr>\n",
              "  </tbody>\n",
              "</table>\n",
              "</div>"
            ],
            "text/plain": [
              "           recency    frequency  monetary_value\n",
              "count     3.000000     3.000000        3.000000\n",
              "mean   2983.000000  2412.666667    88515.300000\n",
              "std      90.155421  2894.077458    74086.424279\n",
              "min    2927.000000   161.000000     4341.210000\n",
              "25%    2931.000000   780.500000    60860.420000\n",
              "50%    2935.000000  1400.000000   117379.630000\n",
              "75%    3011.000000  3538.500000   130602.345000\n",
              "max    3087.000000  5677.000000   143825.060000"
            ]
          },
          "metadata": {
            "tags": []
          },
          "execution_count": 11
        }
      ]
    },
    {
      "cell_type": "code",
      "metadata": {
        "id": "LEmbVr3UPOHa",
        "colab_type": "code",
        "colab": {}
      },
      "source": [
        "## RFM scorer\n",
        "segmented_rfm = rfmTable.copy()\n",
        "\n",
        "def RScore(x, p, d):\n",
        "    if x <= d[p]['25%']:\n",
        "        return 1\n",
        "    elif x <= d[p]['50%']:\n",
        "        return 2\n",
        "    elif x <= d[p]['75%']: \n",
        "        return 3\n",
        "    else:\n",
        "        return 4\n",
        "    \n",
        "def FMScore(x,p,d):\n",
        "    if x <= d[p]['25%']:\n",
        "        return 4\n",
        "    elif x <= d[p]['50%']:\n",
        "        return 3\n",
        "    elif x <= d[p]['75%']: \n",
        "        return 2\n",
        "    else:\n",
        "        return 1"
      ],
      "execution_count": 0,
      "outputs": []
    },
    {
      "cell_type": "markdown",
      "metadata": {
        "id": "OSAlFrJ-BhsZ",
        "colab_type": "text"
      },
      "source": [
        "### Score Users"
      ]
    },
    {
      "cell_type": "code",
      "metadata": {
        "id": "W1Fdd7Z091V_",
        "colab_type": "code",
        "outputId": "909f4cca-6356-4a57-9e68-d0e2d7524e12",
        "colab": {
          "base_uri": "https://localhost:8080/",
          "height": 173
        }
      },
      "source": [
        "### Score each user\n",
        "segmented_rfm['r_quartile'] = segmented_rfm['recency'].apply(RScore, args=('recency', quantiles,))\n",
        "segmented_rfm['f_quartile'] = segmented_rfm['frequency'].apply(FMScore, args=('frequency',quantiles,))\n",
        "segmented_rfm['m_quartile'] = segmented_rfm['monetary_value'].apply(FMScore, args=('monetary_value',quantiles,))\n",
        "\n",
        "### Merge Scores\n",
        "segmented_rfm['RFMScore'] = segmented_rfm.r_quartile.map(str) + segmented_rfm.f_quartile.map(str) + segmented_rfm.m_quartile.map(str)\n",
        "segmented_rfm['RFMScore'] = segmented_rfm['RFMScore'].map(int)\n",
        "\n",
        "segmented_rfm.head()"
      ],
      "execution_count": 0,
      "outputs": [
        {
          "output_type": "execute_result",
          "data": {
            "text/html": [
              "<div>\n",
              "<style scoped>\n",
              "    .dataframe tbody tr th:only-of-type {\n",
              "        vertical-align: middle;\n",
              "    }\n",
              "\n",
              "    .dataframe tbody tr th {\n",
              "        vertical-align: top;\n",
              "    }\n",
              "\n",
              "    .dataframe thead th {\n",
              "        text-align: right;\n",
              "    }\n",
              "</style>\n",
              "<table border=\"1\" class=\"dataframe\">\n",
              "  <thead>\n",
              "    <tr style=\"text-align: right;\">\n",
              "      <th></th>\n",
              "      <th>recency</th>\n",
              "      <th>frequency</th>\n",
              "      <th>monetary_value</th>\n",
              "      <th>r_quartile</th>\n",
              "      <th>f_quartile</th>\n",
              "      <th>m_quartile</th>\n",
              "      <th>RFMScore</th>\n",
              "    </tr>\n",
              "    <tr>\n",
              "      <th>CustomerID</th>\n",
              "      <th></th>\n",
              "      <th></th>\n",
              "      <th></th>\n",
              "      <th></th>\n",
              "      <th></th>\n",
              "      <th></th>\n",
              "      <th></th>\n",
              "    </tr>\n",
              "  </thead>\n",
              "  <tbody>\n",
              "    <tr>\n",
              "      <th>14016.0</th>\n",
              "      <td>3087</td>\n",
              "      <td>161</td>\n",
              "      <td>4341.21</td>\n",
              "      <td>4</td>\n",
              "      <td>4</td>\n",
              "      <td>4</td>\n",
              "      <td>444</td>\n",
              "    </tr>\n",
              "    <tr>\n",
              "      <th>14156.0</th>\n",
              "      <td>2935</td>\n",
              "      <td>1400</td>\n",
              "      <td>117379.63</td>\n",
              "      <td>2</td>\n",
              "      <td>3</td>\n",
              "      <td>3</td>\n",
              "      <td>233</td>\n",
              "    </tr>\n",
              "    <tr>\n",
              "      <th>14911.0</th>\n",
              "      <td>2927</td>\n",
              "      <td>5677</td>\n",
              "      <td>143825.06</td>\n",
              "      <td>1</td>\n",
              "      <td>1</td>\n",
              "      <td>1</td>\n",
              "      <td>111</td>\n",
              "    </tr>\n",
              "  </tbody>\n",
              "</table>\n",
              "</div>"
            ],
            "text/plain": [
              "            recency  frequency  ...  m_quartile  RFMScore\n",
              "CustomerID                      ...                      \n",
              "14016.0        3087        161  ...           4       444\n",
              "14156.0        2935       1400  ...           3       233\n",
              "14911.0        2927       5677  ...           1       111\n",
              "\n",
              "[3 rows x 7 columns]"
            ]
          },
          "metadata": {
            "tags": []
          },
          "execution_count": 13
        }
      ]
    },
    {
      "cell_type": "code",
      "metadata": {
        "id": "a4jo_kVcDunQ",
        "colab_type": "code",
        "colab": {}
      },
      "source": [
        "data.to_csv('some_data.csv')"
      ],
      "execution_count": 0,
      "outputs": []
    },
    {
      "cell_type": "code",
      "metadata": {
        "id": "Hf1JZuuNDM34",
        "colab_type": "code",
        "colab": {}
      },
      "source": [
        "\n",
        "segmented_rfm.to_csv('some_file_name.csv')\n",
        "\n",
        "files.download('some_file_name.csv')"
      ],
      "execution_count": 0,
      "outputs": []
    },
    {
      "cell_type": "markdown",
      "metadata": {
        "id": "-Q-gMWa_F5lI",
        "colab_type": "text"
      },
      "source": [
        "## Identify Customer Segments"
      ]
    },
    {
      "cell_type": "markdown",
      "metadata": {
        "id": "mZz3G-V7B4EE",
        "colab_type": "text"
      },
      "source": [
        "### Who are the top 10 of our best customers?  \n",
        "RFM Score of *111*."
      ]
    },
    {
      "cell_type": "code",
      "metadata": {
        "id": "L0tHhKzeBWVZ",
        "colab_type": "code",
        "outputId": "14fb4561-8da3-4372-8ab4-7cbf62839a84",
        "colab": {
          "base_uri": "https://localhost:8080/",
          "height": 34
        }
      },
      "source": [
        "segmented_rfm['RFMScore'].sort_values().unique()"
      ],
      "execution_count": 0,
      "outputs": [
        {
          "output_type": "execute_result",
          "data": {
            "text/plain": [
              "array([111, 233, 444])"
            ]
          },
          "metadata": {
            "tags": []
          },
          "execution_count": 16
        }
      ]
    },
    {
      "cell_type": "code",
      "metadata": {
        "id": "Oa2Aur7MBVI4",
        "colab_type": "code",
        "outputId": "36c4537c-8e36-42df-aef9-5bd2622f8359",
        "colab": {
          "base_uri": "https://localhost:8080/",
          "height": 111
        }
      },
      "source": [
        "segmented_rfm[segmented_rfm['RFMScore']==111]"
      ],
      "execution_count": 0,
      "outputs": [
        {
          "output_type": "execute_result",
          "data": {
            "text/html": [
              "<div>\n",
              "<style scoped>\n",
              "    .dataframe tbody tr th:only-of-type {\n",
              "        vertical-align: middle;\n",
              "    }\n",
              "\n",
              "    .dataframe tbody tr th {\n",
              "        vertical-align: top;\n",
              "    }\n",
              "\n",
              "    .dataframe thead th {\n",
              "        text-align: right;\n",
              "    }\n",
              "</style>\n",
              "<table border=\"1\" class=\"dataframe\">\n",
              "  <thead>\n",
              "    <tr style=\"text-align: right;\">\n",
              "      <th></th>\n",
              "      <th>recency</th>\n",
              "      <th>frequency</th>\n",
              "      <th>monetary_value</th>\n",
              "      <th>r_quartile</th>\n",
              "      <th>f_quartile</th>\n",
              "      <th>m_quartile</th>\n",
              "      <th>RFMScore</th>\n",
              "    </tr>\n",
              "    <tr>\n",
              "      <th>CustomerID</th>\n",
              "      <th></th>\n",
              "      <th></th>\n",
              "      <th></th>\n",
              "      <th></th>\n",
              "      <th></th>\n",
              "      <th></th>\n",
              "      <th></th>\n",
              "    </tr>\n",
              "  </thead>\n",
              "  <tbody>\n",
              "    <tr>\n",
              "      <th>14911.0</th>\n",
              "      <td>2927</td>\n",
              "      <td>5677</td>\n",
              "      <td>143825.06</td>\n",
              "      <td>1</td>\n",
              "      <td>1</td>\n",
              "      <td>1</td>\n",
              "      <td>111</td>\n",
              "    </tr>\n",
              "  </tbody>\n",
              "</table>\n",
              "</div>"
            ],
            "text/plain": [
              "            recency  frequency  ...  m_quartile  RFMScore\n",
              "CustomerID                      ...                      \n",
              "14911.0        2927       5677  ...           1       111\n",
              "\n",
              "[1 rows x 7 columns]"
            ]
          },
          "metadata": {
            "tags": []
          },
          "execution_count": 17
        }
      ]
    },
    {
      "cell_type": "markdown",
      "metadata": {
        "id": "wnuV-fHgC0i0",
        "colab_type": "text"
      },
      "source": [
        "### Who are our Loyal Customers?  \n",
        "Frequency score of *1*."
      ]
    },
    {
      "cell_type": "code",
      "metadata": {
        "id": "VzUc6a3kCrVL",
        "colab_type": "code",
        "outputId": "905e9f2b-c0e0-4624-b21a-36dae790af7c",
        "colab": {
          "base_uri": "https://localhost:8080/",
          "height": 111
        }
      },
      "source": [
        "segmented_rfm[segmented_rfm['f_quartile']==1].sort_values('frequency', ascending=False).tail(10)"
      ],
      "execution_count": 0,
      "outputs": [
        {
          "output_type": "execute_result",
          "data": {
            "text/html": [
              "<div>\n",
              "<style scoped>\n",
              "    .dataframe tbody tr th:only-of-type {\n",
              "        vertical-align: middle;\n",
              "    }\n",
              "\n",
              "    .dataframe tbody tr th {\n",
              "        vertical-align: top;\n",
              "    }\n",
              "\n",
              "    .dataframe thead th {\n",
              "        text-align: right;\n",
              "    }\n",
              "</style>\n",
              "<table border=\"1\" class=\"dataframe\">\n",
              "  <thead>\n",
              "    <tr style=\"text-align: right;\">\n",
              "      <th></th>\n",
              "      <th>recency</th>\n",
              "      <th>frequency</th>\n",
              "      <th>monetary_value</th>\n",
              "      <th>r_quartile</th>\n",
              "      <th>f_quartile</th>\n",
              "      <th>m_quartile</th>\n",
              "      <th>RFMScore</th>\n",
              "    </tr>\n",
              "    <tr>\n",
              "      <th>CustomerID</th>\n",
              "      <th></th>\n",
              "      <th></th>\n",
              "      <th></th>\n",
              "      <th></th>\n",
              "      <th></th>\n",
              "      <th></th>\n",
              "      <th></th>\n",
              "    </tr>\n",
              "  </thead>\n",
              "  <tbody>\n",
              "    <tr>\n",
              "      <th>14911.0</th>\n",
              "      <td>2927</td>\n",
              "      <td>5677</td>\n",
              "      <td>143825.06</td>\n",
              "      <td>1</td>\n",
              "      <td>1</td>\n",
              "      <td>1</td>\n",
              "      <td>111</td>\n",
              "    </tr>\n",
              "  </tbody>\n",
              "</table>\n",
              "</div>"
            ],
            "text/plain": [
              "            recency  frequency  ...  m_quartile  RFMScore\n",
              "CustomerID                      ...                      \n",
              "14911.0        2927       5677  ...           1       111\n",
              "\n",
              "[1 rows x 7 columns]"
            ]
          },
          "metadata": {
            "tags": []
          },
          "execution_count": 18
        }
      ]
    },
    {
      "cell_type": "markdown",
      "metadata": {
        "id": "IU7qJ9cNE4jN",
        "colab_type": "text"
      },
      "source": [
        "### Who are our Big Spenders?  \n",
        "Monetary value score of *1*."
      ]
    },
    {
      "cell_type": "code",
      "metadata": {
        "id": "n6IkARh3E--Z",
        "colab_type": "code",
        "outputId": "92bdb3dd-70f2-4ae0-8ad2-67add31afa1a",
        "colab": {
          "base_uri": "https://localhost:8080/",
          "height": 111
        }
      },
      "source": [
        "segmented_rfm[segmented_rfm['m_quartile']==1].sort_values('monetary_value', ascending=False).tail(10)"
      ],
      "execution_count": 0,
      "outputs": [
        {
          "output_type": "execute_result",
          "data": {
            "text/html": [
              "<div>\n",
              "<style scoped>\n",
              "    .dataframe tbody tr th:only-of-type {\n",
              "        vertical-align: middle;\n",
              "    }\n",
              "\n",
              "    .dataframe tbody tr th {\n",
              "        vertical-align: top;\n",
              "    }\n",
              "\n",
              "    .dataframe thead th {\n",
              "        text-align: right;\n",
              "    }\n",
              "</style>\n",
              "<table border=\"1\" class=\"dataframe\">\n",
              "  <thead>\n",
              "    <tr style=\"text-align: right;\">\n",
              "      <th></th>\n",
              "      <th>recency</th>\n",
              "      <th>frequency</th>\n",
              "      <th>monetary_value</th>\n",
              "      <th>r_quartile</th>\n",
              "      <th>f_quartile</th>\n",
              "      <th>m_quartile</th>\n",
              "      <th>RFMScore</th>\n",
              "    </tr>\n",
              "    <tr>\n",
              "      <th>CustomerID</th>\n",
              "      <th></th>\n",
              "      <th></th>\n",
              "      <th></th>\n",
              "      <th></th>\n",
              "      <th></th>\n",
              "      <th></th>\n",
              "      <th></th>\n",
              "    </tr>\n",
              "  </thead>\n",
              "  <tbody>\n",
              "    <tr>\n",
              "      <th>14911.0</th>\n",
              "      <td>2927</td>\n",
              "      <td>5677</td>\n",
              "      <td>143825.06</td>\n",
              "      <td>1</td>\n",
              "      <td>1</td>\n",
              "      <td>1</td>\n",
              "      <td>111</td>\n",
              "    </tr>\n",
              "  </tbody>\n",
              "</table>\n",
              "</div>"
            ],
            "text/plain": [
              "            recency  frequency  ...  m_quartile  RFMScore\n",
              "CustomerID                      ...                      \n",
              "14911.0        2927       5677  ...           1       111\n",
              "\n",
              "[1 rows x 7 columns]"
            ]
          },
          "metadata": {
            "tags": []
          },
          "execution_count": 19
        }
      ]
    },
    {
      "cell_type": "markdown",
      "metadata": {
        "id": "rjqjlKfbFLLx",
        "colab_type": "text"
      },
      "source": [
        "### Who are almost lost?  \n",
        "Haven't purchased for some time but spent a lot and transacted a lot.  \n",
        "RFM Score of *311*."
      ]
    },
    {
      "cell_type": "code",
      "metadata": {
        "id": "dWAkTg88FRZV",
        "colab_type": "code",
        "outputId": "cb509655-4196-4efe-f825-add1a0d29ed6",
        "colab": {
          "base_uri": "https://localhost:8080/",
          "height": 80
        }
      },
      "source": [
        "segmented_rfm[segmented_rfm['RFMScore']==311].sort_values('monetary_value', ascending=False).head(10)"
      ],
      "execution_count": 0,
      "outputs": [
        {
          "output_type": "execute_result",
          "data": {
            "text/html": [
              "<div>\n",
              "<style scoped>\n",
              "    .dataframe tbody tr th:only-of-type {\n",
              "        vertical-align: middle;\n",
              "    }\n",
              "\n",
              "    .dataframe tbody tr th {\n",
              "        vertical-align: top;\n",
              "    }\n",
              "\n",
              "    .dataframe thead th {\n",
              "        text-align: right;\n",
              "    }\n",
              "</style>\n",
              "<table border=\"1\" class=\"dataframe\">\n",
              "  <thead>\n",
              "    <tr style=\"text-align: right;\">\n",
              "      <th></th>\n",
              "      <th>recency</th>\n",
              "      <th>frequency</th>\n",
              "      <th>monetary_value</th>\n",
              "      <th>r_quartile</th>\n",
              "      <th>f_quartile</th>\n",
              "      <th>m_quartile</th>\n",
              "      <th>RFMScore</th>\n",
              "    </tr>\n",
              "    <tr>\n",
              "      <th>CustomerID</th>\n",
              "      <th></th>\n",
              "      <th></th>\n",
              "      <th></th>\n",
              "      <th></th>\n",
              "      <th></th>\n",
              "      <th></th>\n",
              "      <th></th>\n",
              "    </tr>\n",
              "  </thead>\n",
              "  <tbody>\n",
              "  </tbody>\n",
              "</table>\n",
              "</div>"
            ],
            "text/plain": [
              "Empty DataFrame\n",
              "Columns: [recency, frequency, monetary_value, r_quartile, f_quartile, m_quartile, RFMScore]\n",
              "Index: []"
            ]
          },
          "metadata": {
            "tags": []
          },
          "execution_count": 20
        }
      ]
    },
    {
      "cell_type": "markdown",
      "metadata": {
        "id": "duhxO5czFf3w",
        "colab_type": "text"
      },
      "source": [
        "### Who are lost?  \n",
        "Haven't purchased in the longest time but spent a lot and transacted a lot.  \n",
        "RFM score of *411*."
      ]
    },
    {
      "cell_type": "code",
      "metadata": {
        "id": "zdibr3Y-FfbC",
        "colab_type": "code",
        "outputId": "8631666f-1e71-49bc-ac38-136137927881",
        "colab": {
          "base_uri": "https://localhost:8080/",
          "height": 80
        }
      },
      "source": [
        "segmented_rfm[segmented_rfm['RFMScore']==411].sort_values('monetary_value', ascending=False).head(10)"
      ],
      "execution_count": 0,
      "outputs": [
        {
          "output_type": "execute_result",
          "data": {
            "text/html": [
              "<div>\n",
              "<style scoped>\n",
              "    .dataframe tbody tr th:only-of-type {\n",
              "        vertical-align: middle;\n",
              "    }\n",
              "\n",
              "    .dataframe tbody tr th {\n",
              "        vertical-align: top;\n",
              "    }\n",
              "\n",
              "    .dataframe thead th {\n",
              "        text-align: right;\n",
              "    }\n",
              "</style>\n",
              "<table border=\"1\" class=\"dataframe\">\n",
              "  <thead>\n",
              "    <tr style=\"text-align: right;\">\n",
              "      <th></th>\n",
              "      <th>recency</th>\n",
              "      <th>frequency</th>\n",
              "      <th>monetary_value</th>\n",
              "      <th>r_quartile</th>\n",
              "      <th>f_quartile</th>\n",
              "      <th>m_quartile</th>\n",
              "      <th>RFMScore</th>\n",
              "    </tr>\n",
              "    <tr>\n",
              "      <th>CustomerID</th>\n",
              "      <th></th>\n",
              "      <th></th>\n",
              "      <th></th>\n",
              "      <th></th>\n",
              "      <th></th>\n",
              "      <th></th>\n",
              "      <th></th>\n",
              "    </tr>\n",
              "  </thead>\n",
              "  <tbody>\n",
              "  </tbody>\n",
              "</table>\n",
              "</div>"
            ],
            "text/plain": [
              "Empty DataFrame\n",
              "Columns: [recency, frequency, monetary_value, r_quartile, f_quartile, m_quartile, RFMScore]\n",
              "Index: []"
            ]
          },
          "metadata": {
            "tags": []
          },
          "execution_count": 21
        }
      ]
    },
    {
      "cell_type": "markdown",
      "metadata": {
        "id": "dCS9cDrVCAK7",
        "colab_type": "text"
      },
      "source": [
        "### Who are the bottom 10 worst customers?  \n",
        "RFM score of *444*."
      ]
    },
    {
      "cell_type": "code",
      "metadata": {
        "id": "1BBHq-jcB9Kl",
        "colab_type": "code",
        "outputId": "a559d9a6-0049-41ea-8717-7a5f795e3239",
        "colab": {
          "base_uri": "https://localhost:8080/",
          "height": 111
        }
      },
      "source": [
        "segmented_rfm[segmented_rfm['RFMScore']==444].sort_values('monetary_value', ascending=False).tail(10)"
      ],
      "execution_count": 0,
      "outputs": [
        {
          "output_type": "execute_result",
          "data": {
            "text/html": [
              "<div>\n",
              "<style scoped>\n",
              "    .dataframe tbody tr th:only-of-type {\n",
              "        vertical-align: middle;\n",
              "    }\n",
              "\n",
              "    .dataframe tbody tr th {\n",
              "        vertical-align: top;\n",
              "    }\n",
              "\n",
              "    .dataframe thead th {\n",
              "        text-align: right;\n",
              "    }\n",
              "</style>\n",
              "<table border=\"1\" class=\"dataframe\">\n",
              "  <thead>\n",
              "    <tr style=\"text-align: right;\">\n",
              "      <th></th>\n",
              "      <th>recency</th>\n",
              "      <th>frequency</th>\n",
              "      <th>monetary_value</th>\n",
              "      <th>r_quartile</th>\n",
              "      <th>f_quartile</th>\n",
              "      <th>m_quartile</th>\n",
              "      <th>RFMScore</th>\n",
              "    </tr>\n",
              "    <tr>\n",
              "      <th>CustomerID</th>\n",
              "      <th></th>\n",
              "      <th></th>\n",
              "      <th></th>\n",
              "      <th></th>\n",
              "      <th></th>\n",
              "      <th></th>\n",
              "      <th></th>\n",
              "    </tr>\n",
              "  </thead>\n",
              "  <tbody>\n",
              "    <tr>\n",
              "      <th>14016.0</th>\n",
              "      <td>3087</td>\n",
              "      <td>161</td>\n",
              "      <td>4341.21</td>\n",
              "      <td>4</td>\n",
              "      <td>4</td>\n",
              "      <td>4</td>\n",
              "      <td>444</td>\n",
              "    </tr>\n",
              "  </tbody>\n",
              "</table>\n",
              "</div>"
            ],
            "text/plain": [
              "            recency  frequency  ...  m_quartile  RFMScore\n",
              "CustomerID                      ...                      \n",
              "14016.0        3087        161  ...           4       444\n",
              "\n",
              "[1 rows x 7 columns]"
            ]
          },
          "metadata": {
            "tags": []
          },
          "execution_count": 22
        }
      ]
    },
    {
      "cell_type": "markdown",
      "metadata": {
        "id": "mIwD41BGKF-p",
        "colab_type": "text"
      },
      "source": [
        "# Exercise: Do Customer Segmentation on a Different Dataset  \n",
        "[link](https://query.data.world/s/oavhrdt2a4dhhg4agcbff6h3llnqsw) to dataset."
      ]
    }
  ]
}