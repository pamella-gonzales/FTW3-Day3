{
  "nbformat": 4,
  "nbformat_minor": 0,
  "metadata": {
    "colab": {
      "name": "NYC House Prices.ipynb",
      "provenance": [],
      "collapsed_sections": [],
      "toc_visible": true,
      "include_colab_link": true
    },
    "kernelspec": {
      "name": "python3",
      "display_name": "Python 3"
    }
  },
  "cells": [
    {
      "cell_type": "markdown",
      "metadata": {
        "id": "view-in-github",
        "colab_type": "text"
      },
      "source": [
        "<a href=\"https://colab.research.google.com/github/pamelladon/FTW3-Day3/blob/master/NYC_House_Prices.ipynb\" target=\"_parent\"><img src=\"https://colab.research.google.com/assets/colab-badge.svg\" alt=\"Open In Colab\"/></a>"
      ]
    },
    {
      "cell_type": "markdown",
      "metadata": {
        "id": "xX9KtCTjUcsI",
        "colab_type": "text"
      },
      "source": [
        "[Link to Dataset Assignments](https://docs.google.com/spreadsheets/d/10OKNCGU9dFmqgVDyWDduN_dHG7RPhSqJJt3fMGUaQwI/edit?usp=sharing)"
      ]
    },
    {
      "cell_type": "markdown",
      "metadata": {
        "id": "khhFO2t4HOsQ",
        "colab_type": "text"
      },
      "source": [
        "# New Section"
      ]
    },
    {
      "cell_type": "markdown",
      "metadata": {
        "id": "Z3YQPE3ffaKk",
        "colab_type": "text"
      },
      "source": [
        "[Data Descriptions](https://colab.research.google.com/drive/14i0RSqKRLowamtV5DjUxqlbf7QmU5eRm)"
      ]
    },
    {
      "cell_type": "code",
      "metadata": {
        "id": "Danr1BvUHT3t",
        "colab_type": "code",
        "colab": {}
      },
      "source": [
        "# IMPORT GENERIC PACKAGES\n",
        "import numpy as np # numerical calc package\n",
        "import pandas as pd # holds data\n",
        "import matplotlib.pyplot as plt # plotting library\n",
        "import seaborn as sns # pretty plotting\n",
        "\n",
        "# plotting config\n",
        "sns.set(style='white', rc={'figure.figsize':(20,10)})\n",
        "\n",
        "from sklearn.linear_model import LinearRegression # linear regression package\n",
        "from sklearn.model_selection import train_test_split # split dataset\n",
        "from sklearn.metrics import mean_squared_error as mse # Measurement metric"
      ],
      "execution_count": 0,
      "outputs": []
    },
    {
      "cell_type": "markdown",
      "metadata": {
        "id": "IBhXR_S2IQtZ",
        "colab_type": "text"
      },
      "source": [
        "## Objective:  Predict Sales Using Advertising Costs From Different Digital Platforms"
      ]
    },
    {
      "cell_type": "markdown",
      "metadata": {
        "id": "-1Z7i4pgI8DM",
        "colab_type": "text"
      },
      "source": [
        "### Read Data"
      ]
    },
    {
      "cell_type": "code",
      "metadata": {
        "id": "k_EtjF0DHw5k",
        "colab_type": "code",
        "colab": {}
      },
      "source": [
        "# read data into a DataFrame\n",
        "data = pd.read_csv('nyc-rolling-sales (1).csv', index_col=0)"
      ],
      "execution_count": 0,
      "outputs": []
    },
    {
      "cell_type": "markdown",
      "metadata": {
        "id": "Np15p3AWOxnX",
        "colab_type": "text"
      },
      "source": [
        "# Look at the Data"
      ]
    },
    {
      "cell_type": "code",
      "metadata": {
        "id": "oE_Xpr7Xue1k",
        "colab_type": "code",
        "outputId": "24d95dd5-f93a-4de0-b28d-a2bef1c59677",
        "colab": {
          "base_uri": "https://localhost:8080/",
          "height": 547
        }
      },
      "source": [
        "data.head()"
      ],
      "execution_count": 3,
      "outputs": [
        {
          "output_type": "execute_result",
          "data": {
            "text/html": [
              "<div>\n",
              "<style scoped>\n",
              "    .dataframe tbody tr th:only-of-type {\n",
              "        vertical-align: middle;\n",
              "    }\n",
              "\n",
              "    .dataframe tbody tr th {\n",
              "        vertical-align: top;\n",
              "    }\n",
              "\n",
              "    .dataframe thead th {\n",
              "        text-align: right;\n",
              "    }\n",
              "</style>\n",
              "<table border=\"1\" class=\"dataframe\">\n",
              "  <thead>\n",
              "    <tr style=\"text-align: right;\">\n",
              "      <th></th>\n",
              "      <th>BOROUGH</th>\n",
              "      <th>NEIGHBORHOOD</th>\n",
              "      <th>BUILDING CLASS CATEGORY</th>\n",
              "      <th>TAX CLASS AT PRESENT</th>\n",
              "      <th>BLOCK</th>\n",
              "      <th>LOT</th>\n",
              "      <th>EASE-MENT</th>\n",
              "      <th>BUILDING CLASS AT PRESENT</th>\n",
              "      <th>ADDRESS</th>\n",
              "      <th>APARTMENT NUMBER</th>\n",
              "      <th>ZIP CODE</th>\n",
              "      <th>RESIDENTIAL UNITS</th>\n",
              "      <th>COMMERCIAL UNITS</th>\n",
              "      <th>TOTAL UNITS</th>\n",
              "      <th>LAND SQUARE FEET</th>\n",
              "      <th>GROSS SQUARE FEET</th>\n",
              "      <th>YEAR BUILT</th>\n",
              "      <th>TAX CLASS AT TIME OF SALE</th>\n",
              "      <th>BUILDING CLASS AT TIME OF SALE</th>\n",
              "      <th>SALE PRICE</th>\n",
              "      <th>SALE DATE</th>\n",
              "    </tr>\n",
              "  </thead>\n",
              "  <tbody>\n",
              "    <tr>\n",
              "      <th>4</th>\n",
              "      <td>1</td>\n",
              "      <td>ALPHABET CITY</td>\n",
              "      <td>07 RENTALS - WALKUP APARTMENTS</td>\n",
              "      <td>2A</td>\n",
              "      <td>392</td>\n",
              "      <td>6</td>\n",
              "      <td></td>\n",
              "      <td>C2</td>\n",
              "      <td>153 AVENUE B</td>\n",
              "      <td></td>\n",
              "      <td>10009</td>\n",
              "      <td>5</td>\n",
              "      <td>0</td>\n",
              "      <td>5</td>\n",
              "      <td>1633</td>\n",
              "      <td>6440</td>\n",
              "      <td>1900</td>\n",
              "      <td>2</td>\n",
              "      <td>C2</td>\n",
              "      <td>6625000</td>\n",
              "      <td>2017-07-19 00:00:00</td>\n",
              "    </tr>\n",
              "    <tr>\n",
              "      <th>5</th>\n",
              "      <td>1</td>\n",
              "      <td>ALPHABET CITY</td>\n",
              "      <td>07 RENTALS - WALKUP APARTMENTS</td>\n",
              "      <td>2</td>\n",
              "      <td>399</td>\n",
              "      <td>26</td>\n",
              "      <td></td>\n",
              "      <td>C7</td>\n",
              "      <td>234 EAST 4TH   STREET</td>\n",
              "      <td></td>\n",
              "      <td>10009</td>\n",
              "      <td>28</td>\n",
              "      <td>3</td>\n",
              "      <td>31</td>\n",
              "      <td>4616</td>\n",
              "      <td>18690</td>\n",
              "      <td>1900</td>\n",
              "      <td>2</td>\n",
              "      <td>C7</td>\n",
              "      <td>-</td>\n",
              "      <td>2016-12-14 00:00:00</td>\n",
              "    </tr>\n",
              "    <tr>\n",
              "      <th>6</th>\n",
              "      <td>1</td>\n",
              "      <td>ALPHABET CITY</td>\n",
              "      <td>07 RENTALS - WALKUP APARTMENTS</td>\n",
              "      <td>2</td>\n",
              "      <td>399</td>\n",
              "      <td>39</td>\n",
              "      <td></td>\n",
              "      <td>C7</td>\n",
              "      <td>197 EAST 3RD   STREET</td>\n",
              "      <td></td>\n",
              "      <td>10009</td>\n",
              "      <td>16</td>\n",
              "      <td>1</td>\n",
              "      <td>17</td>\n",
              "      <td>2212</td>\n",
              "      <td>7803</td>\n",
              "      <td>1900</td>\n",
              "      <td>2</td>\n",
              "      <td>C7</td>\n",
              "      <td>-</td>\n",
              "      <td>2016-12-09 00:00:00</td>\n",
              "    </tr>\n",
              "    <tr>\n",
              "      <th>7</th>\n",
              "      <td>1</td>\n",
              "      <td>ALPHABET CITY</td>\n",
              "      <td>07 RENTALS - WALKUP APARTMENTS</td>\n",
              "      <td>2B</td>\n",
              "      <td>402</td>\n",
              "      <td>21</td>\n",
              "      <td></td>\n",
              "      <td>C4</td>\n",
              "      <td>154 EAST 7TH STREET</td>\n",
              "      <td></td>\n",
              "      <td>10009</td>\n",
              "      <td>10</td>\n",
              "      <td>0</td>\n",
              "      <td>10</td>\n",
              "      <td>2272</td>\n",
              "      <td>6794</td>\n",
              "      <td>1913</td>\n",
              "      <td>2</td>\n",
              "      <td>C4</td>\n",
              "      <td>3936272</td>\n",
              "      <td>2016-09-23 00:00:00</td>\n",
              "    </tr>\n",
              "    <tr>\n",
              "      <th>8</th>\n",
              "      <td>1</td>\n",
              "      <td>ALPHABET CITY</td>\n",
              "      <td>07 RENTALS - WALKUP APARTMENTS</td>\n",
              "      <td>2A</td>\n",
              "      <td>404</td>\n",
              "      <td>55</td>\n",
              "      <td></td>\n",
              "      <td>C2</td>\n",
              "      <td>301 EAST 10TH   STREET</td>\n",
              "      <td></td>\n",
              "      <td>10009</td>\n",
              "      <td>6</td>\n",
              "      <td>0</td>\n",
              "      <td>6</td>\n",
              "      <td>2369</td>\n",
              "      <td>4615</td>\n",
              "      <td>1900</td>\n",
              "      <td>2</td>\n",
              "      <td>C2</td>\n",
              "      <td>8000000</td>\n",
              "      <td>2016-11-17 00:00:00</td>\n",
              "    </tr>\n",
              "  </tbody>\n",
              "</table>\n",
              "</div>"
            ],
            "text/plain": [
              "   BOROUGH   NEIGHBORHOOD  ... SALE PRICE            SALE DATE\n",
              "4        1  ALPHABET CITY  ...    6625000  2017-07-19 00:00:00\n",
              "5        1  ALPHABET CITY  ...        -    2016-12-14 00:00:00\n",
              "6        1  ALPHABET CITY  ...        -    2016-12-09 00:00:00\n",
              "7        1  ALPHABET CITY  ...    3936272  2016-09-23 00:00:00\n",
              "8        1  ALPHABET CITY  ...    8000000  2016-11-17 00:00:00\n",
              "\n",
              "[5 rows x 21 columns]"
            ]
          },
          "metadata": {
            "tags": []
          },
          "execution_count": 3
        }
      ]
    },
    {
      "cell_type": "code",
      "metadata": {
        "id": "VsViNLs6D_FK",
        "colab_type": "code",
        "outputId": "01a17ad1-2773-48d2-be8d-ec0421210abe",
        "colab": {
          "base_uri": "https://localhost:8080/",
          "height": 258
        }
      },
      "source": [
        "!pip install pandas_profiling"
      ],
      "execution_count": 4,
      "outputs": [
        {
          "output_type": "stream",
          "text": [
            "Requirement already satisfied: pandas_profiling in /usr/local/lib/python3.6/dist-packages (1.4.1)\n",
            "Requirement already satisfied: jinja2>=2.8 in /usr/local/lib/python3.6/dist-packages (from pandas_profiling) (2.10.3)\n",
            "Requirement already satisfied: six>=1.9 in /usr/local/lib/python3.6/dist-packages (from pandas_profiling) (1.12.0)\n",
            "Requirement already satisfied: matplotlib>=1.4 in /usr/local/lib/python3.6/dist-packages (from pandas_profiling) (3.1.2)\n",
            "Requirement already satisfied: pandas>=0.19 in /usr/local/lib/python3.6/dist-packages (from pandas_profiling) (0.25.3)\n",
            "Requirement already satisfied: MarkupSafe>=0.23 in /usr/local/lib/python3.6/dist-packages (from jinja2>=2.8->pandas_profiling) (1.1.1)\n",
            "Requirement already satisfied: kiwisolver>=1.0.1 in /usr/local/lib/python3.6/dist-packages (from matplotlib>=1.4->pandas_profiling) (1.1.0)\n",
            "Requirement already satisfied: python-dateutil>=2.1 in /usr/local/lib/python3.6/dist-packages (from matplotlib>=1.4->pandas_profiling) (2.6.1)\n",
            "Requirement already satisfied: numpy>=1.11 in /usr/local/lib/python3.6/dist-packages (from matplotlib>=1.4->pandas_profiling) (1.17.4)\n",
            "Requirement already satisfied: pyparsing!=2.0.4,!=2.1.2,!=2.1.6,>=2.0.1 in /usr/local/lib/python3.6/dist-packages (from matplotlib>=1.4->pandas_profiling) (2.4.5)\n",
            "Requirement already satisfied: cycler>=0.10 in /usr/local/lib/python3.6/dist-packages (from matplotlib>=1.4->pandas_profiling) (0.10.0)\n",
            "Requirement already satisfied: pytz>=2017.2 in /usr/local/lib/python3.6/dist-packages (from pandas>=0.19->pandas_profiling) (2018.9)\n",
            "Requirement already satisfied: setuptools in /usr/local/lib/python3.6/dist-packages (from kiwisolver>=1.0.1->matplotlib>=1.4->pandas_profiling) (42.0.2)\n"
          ],
          "name": "stdout"
        }
      ]
    },
    {
      "cell_type": "code",
      "metadata": {
        "id": "QeuDba_ZEcnh",
        "colab_type": "code",
        "colab": {}
      },
      "source": [
        "import pandas_profiling as pp\n",
        "#assign pandas profiling as pp to show data profiles"
      ],
      "execution_count": 0,
      "outputs": []
    },
    {
      "cell_type": "code",
      "metadata": {
        "id": "w5yzpQfIEmJD",
        "colab_type": "code",
        "outputId": "1c5a0c27-bd0f-477c-f8aa-a6309d725dbf",
        "colab": {
          "base_uri": "https://localhost:8080/",
          "height": 71
        }
      },
      "source": [
        "report = pp.ProfileReport(data)"
      ],
      "execution_count": 6,
      "outputs": [
        {
          "output_type": "stream",
          "text": [
            "/usr/local/lib/python3.6/dist-packages/pandas_profiling/describe.py:392: FutureWarning: The join_axes-keyword is deprecated. Use .reindex or .reindex_like on the result to achieve the same functionality.\n",
            "  variable_stats = pd.concat(ldesc, join_axes=pd.Index([names]), axis=1)\n"
          ],
          "name": "stderr"
        }
      ]
    },
    {
      "cell_type": "code",
      "metadata": {
        "id": "yZ1SSHPkGDVC",
        "colab_type": "code",
        "colab": {}
      },
      "source": [
        "report.to_file('data_assessment.html')"
      ],
      "execution_count": 0,
      "outputs": []
    },
    {
      "cell_type": "code",
      "metadata": {
        "id": "jmPejNuYRGqQ",
        "colab_type": "code",
        "outputId": "9eed36f7-7194-4ba3-eb2d-080d185488a9",
        "colab": {
          "base_uri": "https://localhost:8080/",
          "height": 34
        }
      },
      "source": [
        "# Get number of (rows, columns)\n",
        "data.shape"
      ],
      "execution_count": 8,
      "outputs": [
        {
          "output_type": "execute_result",
          "data": {
            "text/plain": [
              "(84548, 21)"
            ]
          },
          "metadata": {
            "tags": []
          },
          "execution_count": 8
        }
      ]
    },
    {
      "cell_type": "code",
      "metadata": {
        "id": "w-EVPElRPfVK",
        "colab_type": "code",
        "outputId": "bfc15fc2-75ef-412a-f94d-065ddafde7fa",
        "colab": {
          "base_uri": "https://localhost:8080/",
          "height": 547
        }
      },
      "source": [
        "# Get first 5 rows\n",
        "data.head()"
      ],
      "execution_count": 9,
      "outputs": [
        {
          "output_type": "execute_result",
          "data": {
            "text/html": [
              "<div>\n",
              "<style scoped>\n",
              "    .dataframe tbody tr th:only-of-type {\n",
              "        vertical-align: middle;\n",
              "    }\n",
              "\n",
              "    .dataframe tbody tr th {\n",
              "        vertical-align: top;\n",
              "    }\n",
              "\n",
              "    .dataframe thead th {\n",
              "        text-align: right;\n",
              "    }\n",
              "</style>\n",
              "<table border=\"1\" class=\"dataframe\">\n",
              "  <thead>\n",
              "    <tr style=\"text-align: right;\">\n",
              "      <th></th>\n",
              "      <th>BOROUGH</th>\n",
              "      <th>NEIGHBORHOOD</th>\n",
              "      <th>BUILDING CLASS CATEGORY</th>\n",
              "      <th>TAX CLASS AT PRESENT</th>\n",
              "      <th>BLOCK</th>\n",
              "      <th>LOT</th>\n",
              "      <th>EASE-MENT</th>\n",
              "      <th>BUILDING CLASS AT PRESENT</th>\n",
              "      <th>ADDRESS</th>\n",
              "      <th>APARTMENT NUMBER</th>\n",
              "      <th>ZIP CODE</th>\n",
              "      <th>RESIDENTIAL UNITS</th>\n",
              "      <th>COMMERCIAL UNITS</th>\n",
              "      <th>TOTAL UNITS</th>\n",
              "      <th>LAND SQUARE FEET</th>\n",
              "      <th>GROSS SQUARE FEET</th>\n",
              "      <th>YEAR BUILT</th>\n",
              "      <th>TAX CLASS AT TIME OF SALE</th>\n",
              "      <th>BUILDING CLASS AT TIME OF SALE</th>\n",
              "      <th>SALE PRICE</th>\n",
              "      <th>SALE DATE</th>\n",
              "    </tr>\n",
              "  </thead>\n",
              "  <tbody>\n",
              "    <tr>\n",
              "      <th>4</th>\n",
              "      <td>1</td>\n",
              "      <td>ALPHABET CITY</td>\n",
              "      <td>07 RENTALS - WALKUP APARTMENTS</td>\n",
              "      <td>2A</td>\n",
              "      <td>392</td>\n",
              "      <td>6</td>\n",
              "      <td></td>\n",
              "      <td>C2</td>\n",
              "      <td>153 AVENUE B</td>\n",
              "      <td></td>\n",
              "      <td>10009</td>\n",
              "      <td>5</td>\n",
              "      <td>0</td>\n",
              "      <td>5</td>\n",
              "      <td>1633</td>\n",
              "      <td>6440</td>\n",
              "      <td>1900</td>\n",
              "      <td>2</td>\n",
              "      <td>C2</td>\n",
              "      <td>6625000</td>\n",
              "      <td>2017-07-19 00:00:00</td>\n",
              "    </tr>\n",
              "    <tr>\n",
              "      <th>5</th>\n",
              "      <td>1</td>\n",
              "      <td>ALPHABET CITY</td>\n",
              "      <td>07 RENTALS - WALKUP APARTMENTS</td>\n",
              "      <td>2</td>\n",
              "      <td>399</td>\n",
              "      <td>26</td>\n",
              "      <td></td>\n",
              "      <td>C7</td>\n",
              "      <td>234 EAST 4TH   STREET</td>\n",
              "      <td></td>\n",
              "      <td>10009</td>\n",
              "      <td>28</td>\n",
              "      <td>3</td>\n",
              "      <td>31</td>\n",
              "      <td>4616</td>\n",
              "      <td>18690</td>\n",
              "      <td>1900</td>\n",
              "      <td>2</td>\n",
              "      <td>C7</td>\n",
              "      <td>-</td>\n",
              "      <td>2016-12-14 00:00:00</td>\n",
              "    </tr>\n",
              "    <tr>\n",
              "      <th>6</th>\n",
              "      <td>1</td>\n",
              "      <td>ALPHABET CITY</td>\n",
              "      <td>07 RENTALS - WALKUP APARTMENTS</td>\n",
              "      <td>2</td>\n",
              "      <td>399</td>\n",
              "      <td>39</td>\n",
              "      <td></td>\n",
              "      <td>C7</td>\n",
              "      <td>197 EAST 3RD   STREET</td>\n",
              "      <td></td>\n",
              "      <td>10009</td>\n",
              "      <td>16</td>\n",
              "      <td>1</td>\n",
              "      <td>17</td>\n",
              "      <td>2212</td>\n",
              "      <td>7803</td>\n",
              "      <td>1900</td>\n",
              "      <td>2</td>\n",
              "      <td>C7</td>\n",
              "      <td>-</td>\n",
              "      <td>2016-12-09 00:00:00</td>\n",
              "    </tr>\n",
              "    <tr>\n",
              "      <th>7</th>\n",
              "      <td>1</td>\n",
              "      <td>ALPHABET CITY</td>\n",
              "      <td>07 RENTALS - WALKUP APARTMENTS</td>\n",
              "      <td>2B</td>\n",
              "      <td>402</td>\n",
              "      <td>21</td>\n",
              "      <td></td>\n",
              "      <td>C4</td>\n",
              "      <td>154 EAST 7TH STREET</td>\n",
              "      <td></td>\n",
              "      <td>10009</td>\n",
              "      <td>10</td>\n",
              "      <td>0</td>\n",
              "      <td>10</td>\n",
              "      <td>2272</td>\n",
              "      <td>6794</td>\n",
              "      <td>1913</td>\n",
              "      <td>2</td>\n",
              "      <td>C4</td>\n",
              "      <td>3936272</td>\n",
              "      <td>2016-09-23 00:00:00</td>\n",
              "    </tr>\n",
              "    <tr>\n",
              "      <th>8</th>\n",
              "      <td>1</td>\n",
              "      <td>ALPHABET CITY</td>\n",
              "      <td>07 RENTALS - WALKUP APARTMENTS</td>\n",
              "      <td>2A</td>\n",
              "      <td>404</td>\n",
              "      <td>55</td>\n",
              "      <td></td>\n",
              "      <td>C2</td>\n",
              "      <td>301 EAST 10TH   STREET</td>\n",
              "      <td></td>\n",
              "      <td>10009</td>\n",
              "      <td>6</td>\n",
              "      <td>0</td>\n",
              "      <td>6</td>\n",
              "      <td>2369</td>\n",
              "      <td>4615</td>\n",
              "      <td>1900</td>\n",
              "      <td>2</td>\n",
              "      <td>C2</td>\n",
              "      <td>8000000</td>\n",
              "      <td>2016-11-17 00:00:00</td>\n",
              "    </tr>\n",
              "  </tbody>\n",
              "</table>\n",
              "</div>"
            ],
            "text/plain": [
              "   BOROUGH   NEIGHBORHOOD  ... SALE PRICE            SALE DATE\n",
              "4        1  ALPHABET CITY  ...    6625000  2017-07-19 00:00:00\n",
              "5        1  ALPHABET CITY  ...        -    2016-12-14 00:00:00\n",
              "6        1  ALPHABET CITY  ...        -    2016-12-09 00:00:00\n",
              "7        1  ALPHABET CITY  ...    3936272  2016-09-23 00:00:00\n",
              "8        1  ALPHABET CITY  ...    8000000  2016-11-17 00:00:00\n",
              "\n",
              "[5 rows x 21 columns]"
            ]
          },
          "metadata": {
            "tags": []
          },
          "execution_count": 9
        }
      ]
    },
    {
      "cell_type": "markdown",
      "metadata": {
        "id": "C1nOQ4NTJJlU",
        "colab_type": "text"
      },
      "source": [
        "CLEANING DATA"
      ]
    },
    {
      "cell_type": "code",
      "metadata": {
        "id": "uLSrNUzgRCqs",
        "colab_type": "code",
        "outputId": "8e5645cf-813d-4ec6-bcaa-687d7ef0ffa0",
        "colab": {
          "base_uri": "https://localhost:8080/",
          "height": 119
        }
      },
      "source": [
        "data['SALE PRICE'].head()"
      ],
      "execution_count": 10,
      "outputs": [
        {
          "output_type": "execute_result",
          "data": {
            "text/plain": [
              "4    6625000\n",
              "5        -  \n",
              "6        -  \n",
              "7    3936272\n",
              "8    8000000\n",
              "Name: SALE PRICE, dtype: object"
            ]
          },
          "metadata": {
            "tags": []
          },
          "execution_count": 10
        }
      ]
    },
    {
      "cell_type": "code",
      "metadata": {
        "id": "s28vsC3aQVAR",
        "colab_type": "code",
        "colab": {}
      },
      "source": [
        "#change data to number\n",
        "data['SALE PRICE']=pd.to_numeric(data['SALE PRICE'], errors='coerce')"
      ],
      "execution_count": 0,
      "outputs": []
    },
    {
      "cell_type": "code",
      "metadata": {
        "id": "3rs78WLbJrEy",
        "colab_type": "code",
        "outputId": "6948cbe3-cdf8-4d10-a220-889aa6c2edf0",
        "colab": {
          "base_uri": "https://localhost:8080/",
          "height": 119
        }
      },
      "source": [
        "data['SALE PRICE'].head()"
      ],
      "execution_count": 12,
      "outputs": [
        {
          "output_type": "execute_result",
          "data": {
            "text/plain": [
              "4    6625000.0\n",
              "5          NaN\n",
              "6          NaN\n",
              "7    3936272.0\n",
              "8    8000000.0\n",
              "Name: SALE PRICE, dtype: float64"
            ]
          },
          "metadata": {
            "tags": []
          },
          "execution_count": 12
        }
      ]
    },
    {
      "cell_type": "code",
      "metadata": {
        "id": "ZiWM8JbvKENp",
        "colab_type": "code",
        "outputId": "a0f1edd4-ae00-4e15-a2e4-6e937c9247cc",
        "colab": {
          "base_uri": "https://localhost:8080/",
          "height": 221
        }
      },
      "source": [
        "#identifies if data is na or not\n",
        "data['SALE PRICE'].isna()"
      ],
      "execution_count": 13,
      "outputs": [
        {
          "output_type": "execute_result",
          "data": {
            "text/plain": [
              "4       False\n",
              "5        True\n",
              "6        True\n",
              "7       False\n",
              "8       False\n",
              "        ...  \n",
              "8409    False\n",
              "8410    False\n",
              "8411    False\n",
              "8412    False\n",
              "8413    False\n",
              "Name: SALE PRICE, Length: 84548, dtype: bool"
            ]
          },
          "metadata": {
            "tags": []
          },
          "execution_count": 13
        }
      ]
    },
    {
      "cell_type": "code",
      "metadata": {
        "id": "fuBOJNhAKLEN",
        "colab_type": "code",
        "outputId": "bd47121a-7a29-4d18-865f-34dc9d3d109f",
        "colab": {
          "base_uri": "https://localhost:8080/",
          "height": 34
        }
      },
      "source": [
        "data['SALE PRICE'].isna().sum() \n",
        "#sum all values that does not have a value"
      ],
      "execution_count": 14,
      "outputs": [
        {
          "output_type": "execute_result",
          "data": {
            "text/plain": [
              "14561"
            ]
          },
          "metadata": {
            "tags": []
          },
          "execution_count": 14
        }
      ]
    },
    {
      "cell_type": "code",
      "metadata": {
        "id": "SX_KDC9OKrQR",
        "colab_type": "code",
        "colab": {}
      },
      "source": [
        "data['SALE PRICE'] = data['SALE PRICE'].fillna(0) #assigns blank with 0"
      ],
      "execution_count": 0,
      "outputs": []
    },
    {
      "cell_type": "code",
      "metadata": {
        "id": "FL3ieovvK8CS",
        "colab_type": "code",
        "outputId": "093b98a9-cb4f-44b2-bec0-3ef6cba241df",
        "colab": {
          "base_uri": "https://localhost:8080/",
          "height": 34
        }
      },
      "source": [
        "data['SALE PRICE'].isna().sum() "
      ],
      "execution_count": 16,
      "outputs": [
        {
          "output_type": "execute_result",
          "data": {
            "text/plain": [
              "0"
            ]
          },
          "metadata": {
            "tags": []
          },
          "execution_count": 16
        }
      ]
    },
    {
      "cell_type": "code",
      "metadata": {
        "id": "ZkbHiWQNLyAe",
        "colab_type": "code",
        "outputId": "3f678242-cde2-4585-cca9-ff5846ee1be1",
        "colab": {
          "base_uri": "https://localhost:8080/",
          "height": 34
        }
      },
      "source": [
        "sns.distplot(data['SALE PRICE'])"
      ],
      "execution_count": 17,
      "outputs": [
        {
          "output_type": "execute_result",
          "data": {
            "text/plain": [
              "<matplotlib.axes._subplots.AxesSubplot at 0x7f3234d867f0>"
            ]
          },
          "metadata": {
            "tags": []
          },
          "execution_count": 17
        }
      ]
    },
    {
      "cell_type": "code",
      "metadata": {
        "id": "37Czke2iLT6B",
        "colab_type": "code",
        "colab": {}
      },
      "source": [
        "#remove rows in data where sales price is zero (because too much zero does not give good data) rename to newdata\n",
        "newdata = data['SALE PRICE'] > 0"
      ],
      "execution_count": 0,
      "outputs": []
    },
    {
      "cell_type": "code",
      "metadata": {
        "id": "2A3ivrc3LURQ",
        "colab_type": "code",
        "outputId": "16380c64-eeef-4bc5-9e48-671861c8ed99",
        "colab": {
          "base_uri": "https://localhost:8080/",
          "height": 102
        }
      },
      "source": [
        "data['GROSS SQUARE FEET'].describe()"
      ],
      "execution_count": 19,
      "outputs": [
        {
          "output_type": "execute_result",
          "data": {
            "text/plain": [
              "count     84548\n",
              "unique     5691\n",
              "top         -  \n",
              "freq      27612\n",
              "Name: GROSS SQUARE FEET, dtype: object"
            ]
          },
          "metadata": {
            "tags": []
          },
          "execution_count": 19
        }
      ]
    },
    {
      "cell_type": "code",
      "metadata": {
        "id": "dPPgaKu0w1xW",
        "colab_type": "code",
        "colab": {
          "base_uri": "https://localhost:8080/",
          "height": 221
        },
        "outputId": "f87fbd3b-42ec-49ff-a5e6-1e80d03d2d4a"
      },
      "source": [
        "data['GROSS SQUARE FEET'].head"
      ],
      "execution_count": 20,
      "outputs": [
        {
          "output_type": "execute_result",
          "data": {
            "text/plain": [
              "<bound method NDFrame.head of 4        6440\n",
              "5       18690\n",
              "6        7803\n",
              "7        6794\n",
              "8        4615\n",
              "        ...  \n",
              "8409     2575\n",
              "8410     2377\n",
              "8411     1496\n",
              "8412    64117\n",
              "8413     2400\n",
              "Name: GROSS SQUARE FEET, Length: 84548, dtype: object>"
            ]
          },
          "metadata": {
            "tags": []
          },
          "execution_count": 20
        }
      ]
    },
    {
      "cell_type": "code",
      "metadata": {
        "id": "RbHiagyT2MCG",
        "colab_type": "code",
        "colab": {}
      },
      "source": [
        "#change data to number\n",
        "data['GROSS SQUARE FEET']=pd.to_numeric(data['GROSS SQUARE FEET'], errors='coerce')"
      ],
      "execution_count": 0,
      "outputs": []
    },
    {
      "cell_type": "code",
      "metadata": {
        "id": "JrHBMfAGxG5Z",
        "colab_type": "code",
        "colab": {
          "base_uri": "https://localhost:8080/",
          "height": 221
        },
        "outputId": "7265a559-7a80-4bdc-ea00-44bf74d3c554"
      },
      "source": [
        "data['GROSS SQUARE FEET'].isna()"
      ],
      "execution_count": 22,
      "outputs": [
        {
          "output_type": "execute_result",
          "data": {
            "text/plain": [
              "4       False\n",
              "5       False\n",
              "6       False\n",
              "7       False\n",
              "8       False\n",
              "        ...  \n",
              "8409    False\n",
              "8410    False\n",
              "8411    False\n",
              "8412    False\n",
              "8413    False\n",
              "Name: GROSS SQUARE FEET, Length: 84548, dtype: bool"
            ]
          },
          "metadata": {
            "tags": []
          },
          "execution_count": 22
        }
      ]
    },
    {
      "cell_type": "code",
      "metadata": {
        "id": "pCl8UirlxUw5",
        "colab_type": "code",
        "colab": {
          "base_uri": "https://localhost:8080/",
          "height": 34
        },
        "outputId": "b3350aa5-c108-4f38-d2f4-a47388b97a97"
      },
      "source": [
        "data['GROSS SQUARE FEET'].isna().sum()"
      ],
      "execution_count": 23,
      "outputs": [
        {
          "output_type": "execute_result",
          "data": {
            "text/plain": [
              "27612"
            ]
          },
          "metadata": {
            "tags": []
          },
          "execution_count": 23
        }
      ]
    },
    {
      "cell_type": "code",
      "metadata": {
        "id": "P2h3jdnn2lIR",
        "colab_type": "code",
        "colab": {}
      },
      "source": [
        "data['GROSS SQUARE FEET'] = data['GROSS SQUARE FEET'].fillna(0)"
      ],
      "execution_count": 0,
      "outputs": []
    },
    {
      "cell_type": "code",
      "metadata": {
        "id": "O7aNXlKax382",
        "colab_type": "code",
        "colab": {
          "base_uri": "https://localhost:8080/",
          "height": 221
        },
        "outputId": "09eb95a3-ce1f-42a7-ee7f-78deec044698"
      },
      "source": [
        "data['GROSS SQUARE FEET'].describe"
      ],
      "execution_count": 25,
      "outputs": [
        {
          "output_type": "execute_result",
          "data": {
            "text/plain": [
              "<bound method NDFrame.describe of 4        6440.0\n",
              "5       18690.0\n",
              "6        7803.0\n",
              "7        6794.0\n",
              "8        4615.0\n",
              "         ...   \n",
              "8409     2575.0\n",
              "8410     2377.0\n",
              "8411     1496.0\n",
              "8412    64117.0\n",
              "8413     2400.0\n",
              "Name: GROSS SQUARE FEET, Length: 84548, dtype: float64>"
            ]
          },
          "metadata": {
            "tags": []
          },
          "execution_count": 25
        }
      ]
    },
    {
      "cell_type": "code",
      "metadata": {
        "id": "I5bDFfMOyDBT",
        "colab_type": "code",
        "colab": {
          "base_uri": "https://localhost:8080/",
          "height": 34
        },
        "outputId": "12b2910c-de65-4d88-8449-9569b18b9a29"
      },
      "source": [
        "data['GROSS SQUARE FEET'].isna().sum()"
      ],
      "execution_count": 26,
      "outputs": [
        {
          "output_type": "execute_result",
          "data": {
            "text/plain": [
              "0"
            ]
          },
          "metadata": {
            "tags": []
          },
          "execution_count": 26
        }
      ]
    },
    {
      "cell_type": "code",
      "metadata": {
        "id": "StWc2BoQyLxu",
        "colab_type": "code",
        "colab": {
          "base_uri": "https://localhost:8080/",
          "height": 255
        },
        "outputId": "cbc0fb27-bbb2-4a7b-e583-771a8c4e76e2"
      },
      "source": [
        "data.describe"
      ],
      "execution_count": 27,
      "outputs": [
        {
          "output_type": "execute_result",
          "data": {
            "text/plain": [
              "<bound method NDFrame.describe of       BOROUGH   NEIGHBORHOOD  ...  SALE PRICE            SALE DATE\n",
              "4           1  ALPHABET CITY  ...   6625000.0  2017-07-19 00:00:00\n",
              "5           1  ALPHABET CITY  ...         0.0  2016-12-14 00:00:00\n",
              "6           1  ALPHABET CITY  ...         0.0  2016-12-09 00:00:00\n",
              "7           1  ALPHABET CITY  ...   3936272.0  2016-09-23 00:00:00\n",
              "8           1  ALPHABET CITY  ...   8000000.0  2016-11-17 00:00:00\n",
              "...       ...            ...  ...         ...                  ...\n",
              "8409        5        WOODROW  ...    450000.0  2016-11-28 00:00:00\n",
              "8410        5        WOODROW  ...    550000.0  2017-04-21 00:00:00\n",
              "8411        5        WOODROW  ...    460000.0  2017-07-05 00:00:00\n",
              "8412        5        WOODROW  ...  11693337.0  2016-12-21 00:00:00\n",
              "8413        5        WOODROW  ...     69300.0  2016-10-27 00:00:00\n",
              "\n",
              "[84548 rows x 21 columns]>"
            ]
          },
          "metadata": {
            "tags": []
          },
          "execution_count": 27
        }
      ]
    },
    {
      "cell_type": "code",
      "metadata": {
        "id": "exR2_PYZzLGA",
        "colab_type": "code",
        "colab": {
          "base_uri": "https://localhost:8080/",
          "height": 153
        },
        "outputId": "6c2127a1-ca9e-4aad-a4ed-bfd015de5276"
      },
      "source": [
        "data.columns"
      ],
      "execution_count": 28,
      "outputs": [
        {
          "output_type": "execute_result",
          "data": {
            "text/plain": [
              "Index(['BOROUGH', 'NEIGHBORHOOD', 'BUILDING CLASS CATEGORY',\n",
              "       'TAX CLASS AT PRESENT', 'BLOCK', 'LOT', 'EASE-MENT',\n",
              "       'BUILDING CLASS AT PRESENT', 'ADDRESS', 'APARTMENT NUMBER', 'ZIP CODE',\n",
              "       'RESIDENTIAL UNITS', 'COMMERCIAL UNITS', 'TOTAL UNITS',\n",
              "       'LAND SQUARE FEET', 'GROSS SQUARE FEET', 'YEAR BUILT',\n",
              "       'TAX CLASS AT TIME OF SALE', 'BUILDING CLASS AT TIME OF SALE',\n",
              "       'SALE PRICE', 'SALE DATE'],\n",
              "      dtype='object')"
            ]
          },
          "metadata": {
            "tags": []
          },
          "execution_count": 28
        }
      ]
    },
    {
      "cell_type": "code",
      "metadata": {
        "id": "1fLiPPSuz731",
        "colab_type": "code",
        "colab": {
          "base_uri": "https://localhost:8080/",
          "height": 34
        },
        "outputId": "febe7ac9-ef7f-4362-fc99-a3007f3bf9e8"
      },
      "source": [
        "data.columns.dtype"
      ],
      "execution_count": 29,
      "outputs": [
        {
          "output_type": "execute_result",
          "data": {
            "text/plain": [
              "dtype('O')"
            ]
          },
          "metadata": {
            "tags": []
          },
          "execution_count": 29
        }
      ]
    },
    {
      "cell_type": "code",
      "metadata": {
        "id": "VBp6u6hi0NrO",
        "colab_type": "code",
        "colab": {
          "base_uri": "https://localhost:8080/",
          "height": 391
        },
        "outputId": "d8a4d71c-805c-4a3e-966d-6408cb4a09db"
      },
      "source": [
        "data.dtypes"
      ],
      "execution_count": 30,
      "outputs": [
        {
          "output_type": "execute_result",
          "data": {
            "text/plain": [
              "BOROUGH                             int64\n",
              "NEIGHBORHOOD                       object\n",
              "BUILDING CLASS CATEGORY            object\n",
              "TAX CLASS AT PRESENT               object\n",
              "BLOCK                               int64\n",
              "LOT                                 int64\n",
              "EASE-MENT                          object\n",
              "BUILDING CLASS AT PRESENT          object\n",
              "ADDRESS                            object\n",
              "APARTMENT NUMBER                   object\n",
              "ZIP CODE                            int64\n",
              "RESIDENTIAL UNITS                   int64\n",
              "COMMERCIAL UNITS                    int64\n",
              "TOTAL UNITS                         int64\n",
              "LAND SQUARE FEET                   object\n",
              "GROSS SQUARE FEET                 float64\n",
              "YEAR BUILT                          int64\n",
              "TAX CLASS AT TIME OF SALE           int64\n",
              "BUILDING CLASS AT TIME OF SALE     object\n",
              "SALE PRICE                        float64\n",
              "SALE DATE                          object\n",
              "dtype: object"
            ]
          },
          "metadata": {
            "tags": []
          },
          "execution_count": 30
        }
      ]
    },
    {
      "cell_type": "code",
      "metadata": {
        "id": "53A3viU_1L1u",
        "colab_type": "code",
        "colab": {
          "base_uri": "https://localhost:8080/",
          "height": 391
        },
        "outputId": "1fc1f080-df59-4a3d-a5cb-d9d50bb9695a"
      },
      "source": [
        "data['LAND SQUARE FEET']=pd.to_numeric(data['LAND SQUARE FEET'], errors='coerce')\n",
        "data['LAND SQUARE FEET'] = data['LAND SQUARE FEET'].fillna(0)\n",
        "data['LAND SQUARE FEET'].isna().sum()\n",
        "\n",
        "data['SALE DATE']=pd.to_datetime(data['SALE DATE'], errors='coerce')\n",
        "\n",
        "data.dtypes"
      ],
      "execution_count": 31,
      "outputs": [
        {
          "output_type": "execute_result",
          "data": {
            "text/plain": [
              "BOROUGH                                    int64\n",
              "NEIGHBORHOOD                              object\n",
              "BUILDING CLASS CATEGORY                   object\n",
              "TAX CLASS AT PRESENT                      object\n",
              "BLOCK                                      int64\n",
              "LOT                                        int64\n",
              "EASE-MENT                                 object\n",
              "BUILDING CLASS AT PRESENT                 object\n",
              "ADDRESS                                   object\n",
              "APARTMENT NUMBER                          object\n",
              "ZIP CODE                                   int64\n",
              "RESIDENTIAL UNITS                          int64\n",
              "COMMERCIAL UNITS                           int64\n",
              "TOTAL UNITS                                int64\n",
              "LAND SQUARE FEET                         float64\n",
              "GROSS SQUARE FEET                        float64\n",
              "YEAR BUILT                                 int64\n",
              "TAX CLASS AT TIME OF SALE                  int64\n",
              "BUILDING CLASS AT TIME OF SALE            object\n",
              "SALE PRICE                               float64\n",
              "SALE DATE                         datetime64[ns]\n",
              "dtype: object"
            ]
          },
          "metadata": {
            "tags": []
          },
          "execution_count": 31
        }
      ]
    },
    {
      "cell_type": "code",
      "metadata": {
        "id": "YkeEZjhH3gQD",
        "colab_type": "code",
        "colab": {}
      },
      "source": [
        "from numpy import array\n",
        "from numpy import argmax\n",
        "from sklearn.preprocessing import LabelEncoder\n",
        "from sklearn.preprocessing import OneHotEncoder\n",
        "\n",
        "\n",
        "# integer encode\n",
        "le = LabelEncoder()\n",
        "data['NEIGHBORHOOD'] = le.fit_transform(data['NEIGHBORHOOD'])\n",
        "data['BUILDING CLASS CATEGORY'] = le.fit_transform(data['BUILDING CLASS CATEGORY'])\n",
        "data['TAX CLASS AT PRESENT'] = le.fit_transform(data['TAX CLASS AT PRESENT'])\n",
        "data['RESIDENTIAL UNITS'] = le.fit_transform(data['RESIDENTIAL UNITS'])\n",
        "data['COMMERCIAL UNITS'] = le.fit_transform(data['COMMERCIAL UNITS'])\n",
        "data['LAND SQUARE FEET'] = le.fit_transform(data['LAND SQUARE FEET'])\n",
        "data['GROSS SQUARE FEET'] = le.fit_transform(data['GROSS SQUARE FEET'])\n",
        "data['TAX CLASS AT TIME OF SALE'] = le.fit_transform(data['TAX CLASS AT TIME OF SALE'])\n",
        "data['BUILDING CLASS AT TIME OF SALE'] = le.fit_transform(data['BUILDING CLASS AT TIME OF SALE'])\n",
        "\n"
      ],
      "execution_count": 0,
      "outputs": []
    },
    {
      "cell_type": "code",
      "metadata": {
        "id": "yFNEBHVFb9MD",
        "colab_type": "code",
        "colab": {
          "base_uri": "https://localhost:8080/",
          "height": 444
        },
        "outputId": "cc6f78cc-9b4c-4b58-cb15-a429349693f1"
      },
      "source": [
        "df = ['BUILDING CLASS AT PRESENT','NEIGHBORHOOD','BUILDING CLASS CATEGORY', 'TAX CLASS AT PRESENT', 'RESIDENTIAL UNITS','COMMERCIAL UNITS','LAND SQUARE FEET', 'GROSS SQUARE FEET', 'TAX CLASS AT TIME OF SALE', 'BUILDING CLASS AT TIME OF SALE']\n",
        "pd.get_dummies(df)"
      ],
      "execution_count": 34,
      "outputs": [
        {
          "output_type": "execute_result",
          "data": {
            "text/html": [
              "<div>\n",
              "<style scoped>\n",
              "    .dataframe tbody tr th:only-of-type {\n",
              "        vertical-align: middle;\n",
              "    }\n",
              "\n",
              "    .dataframe tbody tr th {\n",
              "        vertical-align: top;\n",
              "    }\n",
              "\n",
              "    .dataframe thead th {\n",
              "        text-align: right;\n",
              "    }\n",
              "</style>\n",
              "<table border=\"1\" class=\"dataframe\">\n",
              "  <thead>\n",
              "    <tr style=\"text-align: right;\">\n",
              "      <th></th>\n",
              "      <th>BUILDING CLASS AT PRESENT</th>\n",
              "      <th>BUILDING CLASS AT TIME OF SALE</th>\n",
              "      <th>BUILDING CLASS CATEGORY</th>\n",
              "      <th>COMMERCIAL UNITS</th>\n",
              "      <th>GROSS SQUARE FEET</th>\n",
              "      <th>LAND SQUARE FEET</th>\n",
              "      <th>NEIGHBORHOOD</th>\n",
              "      <th>RESIDENTIAL UNITS</th>\n",
              "      <th>TAX CLASS AT PRESENT</th>\n",
              "      <th>TAX CLASS AT TIME OF SALE</th>\n",
              "    </tr>\n",
              "  </thead>\n",
              "  <tbody>\n",
              "    <tr>\n",
              "      <th>0</th>\n",
              "      <td>1</td>\n",
              "      <td>0</td>\n",
              "      <td>0</td>\n",
              "      <td>0</td>\n",
              "      <td>0</td>\n",
              "      <td>0</td>\n",
              "      <td>0</td>\n",
              "      <td>0</td>\n",
              "      <td>0</td>\n",
              "      <td>0</td>\n",
              "    </tr>\n",
              "    <tr>\n",
              "      <th>1</th>\n",
              "      <td>0</td>\n",
              "      <td>0</td>\n",
              "      <td>0</td>\n",
              "      <td>0</td>\n",
              "      <td>0</td>\n",
              "      <td>0</td>\n",
              "      <td>1</td>\n",
              "      <td>0</td>\n",
              "      <td>0</td>\n",
              "      <td>0</td>\n",
              "    </tr>\n",
              "    <tr>\n",
              "      <th>2</th>\n",
              "      <td>0</td>\n",
              "      <td>0</td>\n",
              "      <td>1</td>\n",
              "      <td>0</td>\n",
              "      <td>0</td>\n",
              "      <td>0</td>\n",
              "      <td>0</td>\n",
              "      <td>0</td>\n",
              "      <td>0</td>\n",
              "      <td>0</td>\n",
              "    </tr>\n",
              "    <tr>\n",
              "      <th>3</th>\n",
              "      <td>0</td>\n",
              "      <td>0</td>\n",
              "      <td>0</td>\n",
              "      <td>0</td>\n",
              "      <td>0</td>\n",
              "      <td>0</td>\n",
              "      <td>0</td>\n",
              "      <td>0</td>\n",
              "      <td>1</td>\n",
              "      <td>0</td>\n",
              "    </tr>\n",
              "    <tr>\n",
              "      <th>4</th>\n",
              "      <td>0</td>\n",
              "      <td>0</td>\n",
              "      <td>0</td>\n",
              "      <td>0</td>\n",
              "      <td>0</td>\n",
              "      <td>0</td>\n",
              "      <td>0</td>\n",
              "      <td>1</td>\n",
              "      <td>0</td>\n",
              "      <td>0</td>\n",
              "    </tr>\n",
              "    <tr>\n",
              "      <th>5</th>\n",
              "      <td>0</td>\n",
              "      <td>0</td>\n",
              "      <td>0</td>\n",
              "      <td>1</td>\n",
              "      <td>0</td>\n",
              "      <td>0</td>\n",
              "      <td>0</td>\n",
              "      <td>0</td>\n",
              "      <td>0</td>\n",
              "      <td>0</td>\n",
              "    </tr>\n",
              "    <tr>\n",
              "      <th>6</th>\n",
              "      <td>0</td>\n",
              "      <td>0</td>\n",
              "      <td>0</td>\n",
              "      <td>0</td>\n",
              "      <td>0</td>\n",
              "      <td>1</td>\n",
              "      <td>0</td>\n",
              "      <td>0</td>\n",
              "      <td>0</td>\n",
              "      <td>0</td>\n",
              "    </tr>\n",
              "    <tr>\n",
              "      <th>7</th>\n",
              "      <td>0</td>\n",
              "      <td>0</td>\n",
              "      <td>0</td>\n",
              "      <td>0</td>\n",
              "      <td>1</td>\n",
              "      <td>0</td>\n",
              "      <td>0</td>\n",
              "      <td>0</td>\n",
              "      <td>0</td>\n",
              "      <td>0</td>\n",
              "    </tr>\n",
              "    <tr>\n",
              "      <th>8</th>\n",
              "      <td>0</td>\n",
              "      <td>0</td>\n",
              "      <td>0</td>\n",
              "      <td>0</td>\n",
              "      <td>0</td>\n",
              "      <td>0</td>\n",
              "      <td>0</td>\n",
              "      <td>0</td>\n",
              "      <td>0</td>\n",
              "      <td>1</td>\n",
              "    </tr>\n",
              "    <tr>\n",
              "      <th>9</th>\n",
              "      <td>0</td>\n",
              "      <td>1</td>\n",
              "      <td>0</td>\n",
              "      <td>0</td>\n",
              "      <td>0</td>\n",
              "      <td>0</td>\n",
              "      <td>0</td>\n",
              "      <td>0</td>\n",
              "      <td>0</td>\n",
              "      <td>0</td>\n",
              "    </tr>\n",
              "  </tbody>\n",
              "</table>\n",
              "</div>"
            ],
            "text/plain": [
              "   BUILDING CLASS AT PRESENT  ...  TAX CLASS AT TIME OF SALE\n",
              "0                          1  ...                          0\n",
              "1                          0  ...                          0\n",
              "2                          0  ...                          0\n",
              "3                          0  ...                          0\n",
              "4                          0  ...                          0\n",
              "5                          0  ...                          0\n",
              "6                          0  ...                          0\n",
              "7                          0  ...                          0\n",
              "8                          0  ...                          1\n",
              "9                          0  ...                          0\n",
              "\n",
              "[10 rows x 10 columns]"
            ]
          },
          "metadata": {
            "tags": []
          },
          "execution_count": 34
        }
      ]
    },
    {
      "cell_type": "code",
      "metadata": {
        "id": "UOO_50GUd04a",
        "colab_type": "code",
        "colab": {
          "base_uri": "https://localhost:8080/",
          "height": 547
        },
        "outputId": "8d991d59-51fe-41a6-cbb8-a4432d00e4f3"
      },
      "source": [
        "data.head()"
      ],
      "execution_count": 35,
      "outputs": [
        {
          "output_type": "execute_result",
          "data": {
            "text/html": [
              "<div>\n",
              "<style scoped>\n",
              "    .dataframe tbody tr th:only-of-type {\n",
              "        vertical-align: middle;\n",
              "    }\n",
              "\n",
              "    .dataframe tbody tr th {\n",
              "        vertical-align: top;\n",
              "    }\n",
              "\n",
              "    .dataframe thead th {\n",
              "        text-align: right;\n",
              "    }\n",
              "</style>\n",
              "<table border=\"1\" class=\"dataframe\">\n",
              "  <thead>\n",
              "    <tr style=\"text-align: right;\">\n",
              "      <th></th>\n",
              "      <th>BOROUGH</th>\n",
              "      <th>NEIGHBORHOOD</th>\n",
              "      <th>BUILDING CLASS CATEGORY</th>\n",
              "      <th>TAX CLASS AT PRESENT</th>\n",
              "      <th>BLOCK</th>\n",
              "      <th>LOT</th>\n",
              "      <th>EASE-MENT</th>\n",
              "      <th>BUILDING CLASS AT PRESENT</th>\n",
              "      <th>ADDRESS</th>\n",
              "      <th>APARTMENT NUMBER</th>\n",
              "      <th>ZIP CODE</th>\n",
              "      <th>RESIDENTIAL UNITS</th>\n",
              "      <th>COMMERCIAL UNITS</th>\n",
              "      <th>TOTAL UNITS</th>\n",
              "      <th>LAND SQUARE FEET</th>\n",
              "      <th>GROSS SQUARE FEET</th>\n",
              "      <th>YEAR BUILT</th>\n",
              "      <th>TAX CLASS AT TIME OF SALE</th>\n",
              "      <th>BUILDING CLASS AT TIME OF SALE</th>\n",
              "      <th>SALE PRICE</th>\n",
              "      <th>SALE DATE</th>\n",
              "    </tr>\n",
              "  </thead>\n",
              "  <tbody>\n",
              "    <tr>\n",
              "      <th>4</th>\n",
              "      <td>1</td>\n",
              "      <td>1</td>\n",
              "      <td>6</td>\n",
              "      <td>6</td>\n",
              "      <td>392</td>\n",
              "      <td>6</td>\n",
              "      <td></td>\n",
              "      <td>C2</td>\n",
              "      <td>153 AVENUE B</td>\n",
              "      <td></td>\n",
              "      <td>10009</td>\n",
              "      <td>5</td>\n",
              "      <td>0</td>\n",
              "      <td>5</td>\n",
              "      <td>798</td>\n",
              "      <td>3857</td>\n",
              "      <td>1900</td>\n",
              "      <td>1</td>\n",
              "      <td>15</td>\n",
              "      <td>6625000.0</td>\n",
              "      <td>2017-07-19</td>\n",
              "    </tr>\n",
              "    <tr>\n",
              "      <th>5</th>\n",
              "      <td>1</td>\n",
              "      <td>1</td>\n",
              "      <td>6</td>\n",
              "      <td>5</td>\n",
              "      <td>399</td>\n",
              "      <td>26</td>\n",
              "      <td></td>\n",
              "      <td>C7</td>\n",
              "      <td>234 EAST 4TH   STREET</td>\n",
              "      <td></td>\n",
              "      <td>10009</td>\n",
              "      <td>28</td>\n",
              "      <td>3</td>\n",
              "      <td>31</td>\n",
              "      <td>3329</td>\n",
              "      <td>4801</td>\n",
              "      <td>1900</td>\n",
              "      <td>1</td>\n",
              "      <td>20</td>\n",
              "      <td>0.0</td>\n",
              "      <td>2016-12-14</td>\n",
              "    </tr>\n",
              "    <tr>\n",
              "      <th>6</th>\n",
              "      <td>1</td>\n",
              "      <td>1</td>\n",
              "      <td>6</td>\n",
              "      <td>5</td>\n",
              "      <td>399</td>\n",
              "      <td>39</td>\n",
              "      <td></td>\n",
              "      <td>C7</td>\n",
              "      <td>197 EAST 3RD   STREET</td>\n",
              "      <td></td>\n",
              "      <td>10009</td>\n",
              "      <td>16</td>\n",
              "      <td>1</td>\n",
              "      <td>17</td>\n",
              "      <td>1366</td>\n",
              "      <td>4077</td>\n",
              "      <td>1900</td>\n",
              "      <td>1</td>\n",
              "      <td>20</td>\n",
              "      <td>0.0</td>\n",
              "      <td>2016-12-09</td>\n",
              "    </tr>\n",
              "    <tr>\n",
              "      <th>7</th>\n",
              "      <td>1</td>\n",
              "      <td>1</td>\n",
              "      <td>6</td>\n",
              "      <td>7</td>\n",
              "      <td>402</td>\n",
              "      <td>21</td>\n",
              "      <td></td>\n",
              "      <td>C4</td>\n",
              "      <td>154 EAST 7TH STREET</td>\n",
              "      <td></td>\n",
              "      <td>10009</td>\n",
              "      <td>10</td>\n",
              "      <td>0</td>\n",
              "      <td>10</td>\n",
              "      <td>1424</td>\n",
              "      <td>3930</td>\n",
              "      <td>1913</td>\n",
              "      <td>1</td>\n",
              "      <td>17</td>\n",
              "      <td>3936272.0</td>\n",
              "      <td>2016-09-23</td>\n",
              "    </tr>\n",
              "    <tr>\n",
              "      <th>8</th>\n",
              "      <td>1</td>\n",
              "      <td>1</td>\n",
              "      <td>6</td>\n",
              "      <td>6</td>\n",
              "      <td>404</td>\n",
              "      <td>55</td>\n",
              "      <td></td>\n",
              "      <td>C2</td>\n",
              "      <td>301 EAST 10TH   STREET</td>\n",
              "      <td></td>\n",
              "      <td>10009</td>\n",
              "      <td>6</td>\n",
              "      <td>0</td>\n",
              "      <td>6</td>\n",
              "      <td>1520</td>\n",
              "      <td>3310</td>\n",
              "      <td>1900</td>\n",
              "      <td>1</td>\n",
              "      <td>15</td>\n",
              "      <td>8000000.0</td>\n",
              "      <td>2016-11-17</td>\n",
              "    </tr>\n",
              "  </tbody>\n",
              "</table>\n",
              "</div>"
            ],
            "text/plain": [
              "   BOROUGH  NEIGHBORHOOD  ...  SALE PRICE  SALE DATE\n",
              "4        1             1  ...   6625000.0 2017-07-19\n",
              "5        1             1  ...         0.0 2016-12-14\n",
              "6        1             1  ...         0.0 2016-12-09\n",
              "7        1             1  ...   3936272.0 2016-09-23\n",
              "8        1             1  ...   8000000.0 2016-11-17\n",
              "\n",
              "[5 rows x 21 columns]"
            ]
          },
          "metadata": {
            "tags": []
          },
          "execution_count": 35
        }
      ]
    },
    {
      "cell_type": "code",
      "metadata": {
        "id": "n1z1Y1kHVjAO",
        "colab_type": "code",
        "colab": {
          "base_uri": "https://localhost:8080/",
          "height": 428
        },
        "outputId": "8fcdd08f-20ba-44b7-917d-5822f6d9e9a3"
      },
      "source": [
        "he = OneHotEncoder()\n",
        "data['NEIGHBORHOOD'] = he.fit_transform(data['NEIGHBORHOOD']).toarray()\n",
        "data['BUILDING CLASS CATEGORY'] = he.fit_transform(data['BUILDING CLASS CATEGORY']).toarray()\n",
        "data['TAX CLASS AT PRESENT'] = he.fit_transform(data['TAX CLASS AT PRESENT']).toarray()\n",
        "data['RESIDENTIAL UNITS'] = he.fit_transform(data['RESIDENTIAL UNITS']).toarray()\n",
        "data['COMMERCIAL UNITS'] = he.fit_transform(data['COMMERCIAL UNITS']).toarray()\n",
        "data['LAND SQUARE FEET'] = he.fit_transform(data['LAND SQUARE FEET']).toarray()\n",
        "data['GROSS SQUARE FEET'] = he.fit_transform(data['GROSS SQUARE FEET']).toarray()\n",
        "data['TAX CLASS AT TIME OF SALE'] = he.fit_transform(data['TAX CLASS AT TIME OF SALE']).toarray()\n",
        "data['BUILDING CLASS AT TIME OF SALE'] = he.fit_transform(data['BUILDING CLASS AT TIME OF SALE']).toarray()"
      ],
      "execution_count": 69,
      "outputs": [
        {
          "output_type": "error",
          "ename": "ValueError",
          "evalue": "ignored",
          "traceback": [
            "\u001b[0;31m---------------------------------------------------------------------------\u001b[0m",
            "\u001b[0;31mValueError\u001b[0m                                Traceback (most recent call last)",
            "\u001b[0;32m<ipython-input-69-17b11c6f87f8>\u001b[0m in \u001b[0;36m<module>\u001b[0;34m()\u001b[0m\n\u001b[1;32m      1\u001b[0m \u001b[0mhe\u001b[0m \u001b[0;34m=\u001b[0m \u001b[0mOneHotEncoder\u001b[0m\u001b[0;34m(\u001b[0m\u001b[0;34m)\u001b[0m\u001b[0;34m\u001b[0m\u001b[0;34m\u001b[0m\u001b[0m\n\u001b[0;32m----> 2\u001b[0;31m \u001b[0mdata\u001b[0m\u001b[0;34m[\u001b[0m\u001b[0;34m'NEIGHBORHOOD'\u001b[0m\u001b[0;34m]\u001b[0m \u001b[0;34m=\u001b[0m \u001b[0mhe\u001b[0m\u001b[0;34m.\u001b[0m\u001b[0mfit_transform\u001b[0m\u001b[0;34m(\u001b[0m\u001b[0mdata\u001b[0m\u001b[0;34m[\u001b[0m\u001b[0;34m'NEIGHBORHOOD'\u001b[0m\u001b[0;34m]\u001b[0m\u001b[0;34m)\u001b[0m\u001b[0;34m.\u001b[0m\u001b[0mtoarray\u001b[0m\u001b[0;34m(\u001b[0m\u001b[0;34m)\u001b[0m\u001b[0;34m\u001b[0m\u001b[0;34m\u001b[0m\u001b[0m\n\u001b[0m\u001b[1;32m      3\u001b[0m \u001b[0mdata\u001b[0m\u001b[0;34m[\u001b[0m\u001b[0;34m'BUILDING CLASS CATEGORY'\u001b[0m\u001b[0;34m]\u001b[0m \u001b[0;34m=\u001b[0m \u001b[0mhe\u001b[0m\u001b[0;34m.\u001b[0m\u001b[0mfit_transform\u001b[0m\u001b[0;34m(\u001b[0m\u001b[0mdata\u001b[0m\u001b[0;34m[\u001b[0m\u001b[0;34m'BUILDING CLASS CATEGORY'\u001b[0m\u001b[0;34m]\u001b[0m\u001b[0;34m)\u001b[0m\u001b[0;34m.\u001b[0m\u001b[0mtoarray\u001b[0m\u001b[0;34m(\u001b[0m\u001b[0;34m)\u001b[0m\u001b[0;34m\u001b[0m\u001b[0;34m\u001b[0m\u001b[0m\n\u001b[1;32m      4\u001b[0m \u001b[0mdata\u001b[0m\u001b[0;34m[\u001b[0m\u001b[0;34m'TAX CLASS AT PRESENT'\u001b[0m\u001b[0;34m]\u001b[0m \u001b[0;34m=\u001b[0m \u001b[0mhe\u001b[0m\u001b[0;34m.\u001b[0m\u001b[0mfit_transform\u001b[0m\u001b[0;34m(\u001b[0m\u001b[0mdata\u001b[0m\u001b[0;34m[\u001b[0m\u001b[0;34m'TAX CLASS AT PRESENT'\u001b[0m\u001b[0;34m]\u001b[0m\u001b[0;34m)\u001b[0m\u001b[0;34m.\u001b[0m\u001b[0mtoarray\u001b[0m\u001b[0;34m(\u001b[0m\u001b[0;34m)\u001b[0m\u001b[0;34m\u001b[0m\u001b[0;34m\u001b[0m\u001b[0m\n\u001b[1;32m      5\u001b[0m \u001b[0mdata\u001b[0m\u001b[0;34m[\u001b[0m\u001b[0;34m'RESIDENTIAL UNITS'\u001b[0m\u001b[0;34m]\u001b[0m \u001b[0;34m=\u001b[0m \u001b[0mhe\u001b[0m\u001b[0;34m.\u001b[0m\u001b[0mfit_transform\u001b[0m\u001b[0;34m(\u001b[0m\u001b[0mdata\u001b[0m\u001b[0;34m[\u001b[0m\u001b[0;34m'RESIDENTIAL UNITS'\u001b[0m\u001b[0;34m]\u001b[0m\u001b[0;34m)\u001b[0m\u001b[0;34m.\u001b[0m\u001b[0mtoarray\u001b[0m\u001b[0;34m(\u001b[0m\u001b[0;34m)\u001b[0m\u001b[0;34m\u001b[0m\u001b[0;34m\u001b[0m\u001b[0m\n",
            "\u001b[0;32m/usr/local/lib/python3.6/dist-packages/sklearn/preprocessing/_encoders.py\u001b[0m in \u001b[0;36mfit_transform\u001b[0;34m(self, X, y)\u001b[0m\n\u001b[1;32m    629\u001b[0m                 self._categorical_features, copy=True)\n\u001b[1;32m    630\u001b[0m         \u001b[0;32melse\u001b[0m\u001b[0;34m:\u001b[0m\u001b[0;34m\u001b[0m\u001b[0;34m\u001b[0m\u001b[0m\n\u001b[0;32m--> 631\u001b[0;31m             \u001b[0;32mreturn\u001b[0m \u001b[0mself\u001b[0m\u001b[0;34m.\u001b[0m\u001b[0mfit\u001b[0m\u001b[0;34m(\u001b[0m\u001b[0mX\u001b[0m\u001b[0;34m)\u001b[0m\u001b[0;34m.\u001b[0m\u001b[0mtransform\u001b[0m\u001b[0;34m(\u001b[0m\u001b[0mX\u001b[0m\u001b[0;34m)\u001b[0m\u001b[0;34m\u001b[0m\u001b[0;34m\u001b[0m\u001b[0m\n\u001b[0m\u001b[1;32m    632\u001b[0m \u001b[0;34m\u001b[0m\u001b[0m\n\u001b[1;32m    633\u001b[0m     \u001b[0;32mdef\u001b[0m \u001b[0m_legacy_transform\u001b[0m\u001b[0;34m(\u001b[0m\u001b[0mself\u001b[0m\u001b[0;34m,\u001b[0m \u001b[0mX\u001b[0m\u001b[0;34m)\u001b[0m\u001b[0;34m:\u001b[0m\u001b[0;34m\u001b[0m\u001b[0;34m\u001b[0m\u001b[0m\n",
            "\u001b[0;32m/usr/local/lib/python3.6/dist-packages/sklearn/preprocessing/_encoders.py\u001b[0m in \u001b[0;36mfit\u001b[0;34m(self, X, y)\u001b[0m\n\u001b[1;32m    491\u001b[0m             \u001b[0;32mreturn\u001b[0m \u001b[0mself\u001b[0m\u001b[0;34m\u001b[0m\u001b[0;34m\u001b[0m\u001b[0m\n\u001b[1;32m    492\u001b[0m         \u001b[0;32melse\u001b[0m\u001b[0;34m:\u001b[0m\u001b[0;34m\u001b[0m\u001b[0;34m\u001b[0m\u001b[0m\n\u001b[0;32m--> 493\u001b[0;31m             \u001b[0mself\u001b[0m\u001b[0;34m.\u001b[0m\u001b[0m_fit\u001b[0m\u001b[0;34m(\u001b[0m\u001b[0mX\u001b[0m\u001b[0;34m,\u001b[0m \u001b[0mhandle_unknown\u001b[0m\u001b[0;34m=\u001b[0m\u001b[0mself\u001b[0m\u001b[0;34m.\u001b[0m\u001b[0mhandle_unknown\u001b[0m\u001b[0;34m)\u001b[0m\u001b[0;34m\u001b[0m\u001b[0;34m\u001b[0m\u001b[0m\n\u001b[0m\u001b[1;32m    494\u001b[0m             \u001b[0mself\u001b[0m\u001b[0;34m.\u001b[0m\u001b[0mdrop_idx_\u001b[0m \u001b[0;34m=\u001b[0m \u001b[0mself\u001b[0m\u001b[0;34m.\u001b[0m\u001b[0m_compute_drop_idx\u001b[0m\u001b[0;34m(\u001b[0m\u001b[0;34m)\u001b[0m\u001b[0;34m\u001b[0m\u001b[0;34m\u001b[0m\u001b[0m\n\u001b[1;32m    495\u001b[0m             \u001b[0;32mreturn\u001b[0m \u001b[0mself\u001b[0m\u001b[0;34m\u001b[0m\u001b[0;34m\u001b[0m\u001b[0m\n",
            "\u001b[0;32m/usr/local/lib/python3.6/dist-packages/sklearn/preprocessing/_encoders.py\u001b[0m in \u001b[0;36m_fit\u001b[0;34m(self, X, handle_unknown)\u001b[0m\n\u001b[1;32m     78\u001b[0m \u001b[0;34m\u001b[0m\u001b[0m\n\u001b[1;32m     79\u001b[0m     \u001b[0;32mdef\u001b[0m \u001b[0m_fit\u001b[0m\u001b[0;34m(\u001b[0m\u001b[0mself\u001b[0m\u001b[0;34m,\u001b[0m \u001b[0mX\u001b[0m\u001b[0;34m,\u001b[0m \u001b[0mhandle_unknown\u001b[0m\u001b[0;34m=\u001b[0m\u001b[0;34m'error'\u001b[0m\u001b[0;34m)\u001b[0m\u001b[0;34m:\u001b[0m\u001b[0;34m\u001b[0m\u001b[0;34m\u001b[0m\u001b[0m\n\u001b[0;32m---> 80\u001b[0;31m         \u001b[0mX_list\u001b[0m\u001b[0;34m,\u001b[0m \u001b[0mn_samples\u001b[0m\u001b[0;34m,\u001b[0m \u001b[0mn_features\u001b[0m \u001b[0;34m=\u001b[0m \u001b[0mself\u001b[0m\u001b[0;34m.\u001b[0m\u001b[0m_check_X\u001b[0m\u001b[0;34m(\u001b[0m\u001b[0mX\u001b[0m\u001b[0;34m)\u001b[0m\u001b[0;34m\u001b[0m\u001b[0;34m\u001b[0m\u001b[0m\n\u001b[0m\u001b[1;32m     81\u001b[0m \u001b[0;34m\u001b[0m\u001b[0m\n\u001b[1;32m     82\u001b[0m         \u001b[0;32mif\u001b[0m \u001b[0mself\u001b[0m\u001b[0;34m.\u001b[0m\u001b[0m_categories\u001b[0m \u001b[0;34m!=\u001b[0m \u001b[0;34m'auto'\u001b[0m\u001b[0;34m:\u001b[0m\u001b[0;34m\u001b[0m\u001b[0;34m\u001b[0m\u001b[0m\n",
            "\u001b[0;32m/usr/local/lib/python3.6/dist-packages/sklearn/preprocessing/_encoders.py\u001b[0m in \u001b[0;36m_check_X\u001b[0;34m(self, X)\u001b[0m\n\u001b[1;32m     47\u001b[0m         \u001b[0;32mif\u001b[0m \u001b[0;32mnot\u001b[0m \u001b[0;34m(\u001b[0m\u001b[0mhasattr\u001b[0m\u001b[0;34m(\u001b[0m\u001b[0mX\u001b[0m\u001b[0;34m,\u001b[0m \u001b[0;34m'iloc'\u001b[0m\u001b[0;34m)\u001b[0m \u001b[0;32mand\u001b[0m \u001b[0mgetattr\u001b[0m\u001b[0;34m(\u001b[0m\u001b[0mX\u001b[0m\u001b[0;34m,\u001b[0m \u001b[0;34m'ndim'\u001b[0m\u001b[0;34m,\u001b[0m \u001b[0;36m0\u001b[0m\u001b[0;34m)\u001b[0m \u001b[0;34m==\u001b[0m \u001b[0;36m2\u001b[0m\u001b[0;34m)\u001b[0m\u001b[0;34m:\u001b[0m\u001b[0;34m\u001b[0m\u001b[0;34m\u001b[0m\u001b[0m\n\u001b[1;32m     48\u001b[0m             \u001b[0;31m# if not a dataframe, do normal check_array validation\u001b[0m\u001b[0;34m\u001b[0m\u001b[0;34m\u001b[0m\u001b[0;34m\u001b[0m\u001b[0m\n\u001b[0;32m---> 49\u001b[0;31m             \u001b[0mX_temp\u001b[0m \u001b[0;34m=\u001b[0m \u001b[0mcheck_array\u001b[0m\u001b[0;34m(\u001b[0m\u001b[0mX\u001b[0m\u001b[0;34m,\u001b[0m \u001b[0mdtype\u001b[0m\u001b[0;34m=\u001b[0m\u001b[0;32mNone\u001b[0m\u001b[0;34m)\u001b[0m\u001b[0;34m\u001b[0m\u001b[0;34m\u001b[0m\u001b[0m\n\u001b[0m\u001b[1;32m     50\u001b[0m             if (not hasattr(X, 'dtype')\n\u001b[1;32m     51\u001b[0m                     and np.issubdtype(X_temp.dtype, np.str_)):\n",
            "\u001b[0;32m/usr/local/lib/python3.6/dist-packages/sklearn/utils/validation.py\u001b[0m in \u001b[0;36mcheck_array\u001b[0;34m(array, accept_sparse, accept_large_sparse, dtype, order, copy, force_all_finite, ensure_2d, allow_nd, ensure_min_samples, ensure_min_features, warn_on_dtype, estimator)\u001b[0m\n\u001b[1;32m    519\u001b[0m                     \u001b[0;34m\"Reshape your data either using array.reshape(-1, 1) if \"\u001b[0m\u001b[0;34m\u001b[0m\u001b[0;34m\u001b[0m\u001b[0m\n\u001b[1;32m    520\u001b[0m                     \u001b[0;34m\"your data has a single feature or array.reshape(1, -1) \"\u001b[0m\u001b[0;34m\u001b[0m\u001b[0;34m\u001b[0m\u001b[0m\n\u001b[0;32m--> 521\u001b[0;31m                     \"if it contains a single sample.\".format(array))\n\u001b[0m\u001b[1;32m    522\u001b[0m \u001b[0;34m\u001b[0m\u001b[0m\n\u001b[1;32m    523\u001b[0m         \u001b[0;31m# in the future np.flexible dtypes will be handled like object dtypes\u001b[0m\u001b[0;34m\u001b[0m\u001b[0;34m\u001b[0m\u001b[0;34m\u001b[0m\u001b[0m\n",
            "\u001b[0;31mValueError\u001b[0m: Expected 2D array, got 1D array instead:\narray=[  1   1   1 ... 251 251 251].\nReshape your data either using array.reshape(-1, 1) if your data has a single feature or array.reshape(1, -1) if it contains a single sample."
          ]
        }
      ]
    },
    {
      "cell_type": "code",
      "metadata": {
        "id": "hnO_AujU53Wp",
        "colab_type": "code",
        "colab": {
          "base_uri": "https://localhost:8080/",
          "height": 391
        },
        "outputId": "16d979c2-58bf-4439-d62e-5810006ebb87"
      },
      "source": [
        "data.dtypes"
      ],
      "execution_count": 37,
      "outputs": [
        {
          "output_type": "execute_result",
          "data": {
            "text/plain": [
              "BOROUGH                                    int64\n",
              "NEIGHBORHOOD                               int64\n",
              "BUILDING CLASS CATEGORY                    int64\n",
              "TAX CLASS AT PRESENT                       int64\n",
              "BLOCK                                      int64\n",
              "LOT                                        int64\n",
              "EASE-MENT                                 object\n",
              "BUILDING CLASS AT PRESENT                 object\n",
              "ADDRESS                                   object\n",
              "APARTMENT NUMBER                          object\n",
              "ZIP CODE                                   int64\n",
              "RESIDENTIAL UNITS                          int64\n",
              "COMMERCIAL UNITS                           int64\n",
              "TOTAL UNITS                                int64\n",
              "LAND SQUARE FEET                           int64\n",
              "GROSS SQUARE FEET                          int64\n",
              "YEAR BUILT                                 int64\n",
              "TAX CLASS AT TIME OF SALE                  int64\n",
              "BUILDING CLASS AT TIME OF SALE             int64\n",
              "SALE PRICE                               float64\n",
              "SALE DATE                         datetime64[ns]\n",
              "dtype: object"
            ]
          },
          "metadata": {
            "tags": []
          },
          "execution_count": 37
        }
      ]
    },
    {
      "cell_type": "code",
      "metadata": {
        "id": "ccB45cI2RZkK",
        "colab_type": "code",
        "colab": {}
      },
      "source": [
        "data['BUILDING CLASS AT PRESENT'] = le.fit_transform(data['BUILDING CLASS AT PRESENT'])"
      ],
      "execution_count": 0,
      "outputs": []
    },
    {
      "cell_type": "code",
      "metadata": {
        "id": "SPC2RiVA56hc",
        "colab_type": "code",
        "colab": {
          "base_uri": "https://localhost:8080/",
          "height": 391
        },
        "outputId": "c173d866-1e59-458e-be3d-e6a46dfeac71"
      },
      "source": [
        "data.dtypes"
      ],
      "execution_count": 39,
      "outputs": [
        {
          "output_type": "execute_result",
          "data": {
            "text/plain": [
              "BOROUGH                                    int64\n",
              "NEIGHBORHOOD                               int64\n",
              "BUILDING CLASS CATEGORY                    int64\n",
              "TAX CLASS AT PRESENT                       int64\n",
              "BLOCK                                      int64\n",
              "LOT                                        int64\n",
              "EASE-MENT                                 object\n",
              "BUILDING CLASS AT PRESENT                  int64\n",
              "ADDRESS                                   object\n",
              "APARTMENT NUMBER                          object\n",
              "ZIP CODE                                   int64\n",
              "RESIDENTIAL UNITS                          int64\n",
              "COMMERCIAL UNITS                           int64\n",
              "TOTAL UNITS                                int64\n",
              "LAND SQUARE FEET                           int64\n",
              "GROSS SQUARE FEET                          int64\n",
              "YEAR BUILT                                 int64\n",
              "TAX CLASS AT TIME OF SALE                  int64\n",
              "BUILDING CLASS AT TIME OF SALE             int64\n",
              "SALE PRICE                               float64\n",
              "SALE DATE                         datetime64[ns]\n",
              "dtype: object"
            ]
          },
          "metadata": {
            "tags": []
          },
          "execution_count": 39
        }
      ]
    },
    {
      "cell_type": "code",
      "metadata": {
        "id": "jQsATzeASIq8",
        "colab_type": "code",
        "colab": {}
      },
      "source": [
        "data.head()"
      ],
      "execution_count": 0,
      "outputs": []
    },
    {
      "cell_type": "markdown",
      "metadata": {
        "id": "vV3favjkRgoG",
        "colab_type": "text"
      },
      "source": [
        "# How are the features correlated to each other?"
      ]
    },
    {
      "cell_type": "code",
      "metadata": {
        "id": "m1I5D0BQQYlt",
        "colab_type": "code",
        "outputId": "0b4e0706-105a-4dcd-d1f1-22c44f55cc91",
        "colab": {
          "base_uri": "https://localhost:8080/",
          "height": 851
        }
      },
      "source": [
        "correlation_coefficients = data.corr()\n",
        "correlation_coefficients"
      ],
      "execution_count": 41,
      "outputs": [
        {
          "output_type": "execute_result",
          "data": {
            "text/html": [
              "<div>\n",
              "<style scoped>\n",
              "    .dataframe tbody tr th:only-of-type {\n",
              "        vertical-align: middle;\n",
              "    }\n",
              "\n",
              "    .dataframe tbody tr th {\n",
              "        vertical-align: top;\n",
              "    }\n",
              "\n",
              "    .dataframe thead th {\n",
              "        text-align: right;\n",
              "    }\n",
              "</style>\n",
              "<table border=\"1\" class=\"dataframe\">\n",
              "  <thead>\n",
              "    <tr style=\"text-align: right;\">\n",
              "      <th></th>\n",
              "      <th>BOROUGH</th>\n",
              "      <th>NEIGHBORHOOD</th>\n",
              "      <th>BUILDING CLASS CATEGORY</th>\n",
              "      <th>TAX CLASS AT PRESENT</th>\n",
              "      <th>BLOCK</th>\n",
              "      <th>LOT</th>\n",
              "      <th>BUILDING CLASS AT PRESENT</th>\n",
              "      <th>ZIP CODE</th>\n",
              "      <th>RESIDENTIAL UNITS</th>\n",
              "      <th>COMMERCIAL UNITS</th>\n",
              "      <th>TOTAL UNITS</th>\n",
              "      <th>LAND SQUARE FEET</th>\n",
              "      <th>GROSS SQUARE FEET</th>\n",
              "      <th>YEAR BUILT</th>\n",
              "      <th>TAX CLASS AT TIME OF SALE</th>\n",
              "      <th>BUILDING CLASS AT TIME OF SALE</th>\n",
              "      <th>SALE PRICE</th>\n",
              "    </tr>\n",
              "  </thead>\n",
              "  <tbody>\n",
              "    <tr>\n",
              "      <th>BOROUGH</th>\n",
              "      <td>1.000000</td>\n",
              "      <td>-0.144981</td>\n",
              "      <td>-0.317936</td>\n",
              "      <td>-0.361609</td>\n",
              "      <td>0.417001</td>\n",
              "      <td>-0.277848</td>\n",
              "      <td>-0.303971</td>\n",
              "      <td>0.256564</td>\n",
              "      <td>-0.035805</td>\n",
              "      <td>-0.036903</td>\n",
              "      <td>-0.023346</td>\n",
              "      <td>0.386896</td>\n",
              "      <td>0.114237</td>\n",
              "      <td>0.108303</td>\n",
              "      <td>-0.315163</td>\n",
              "      <td>-0.311548</td>\n",
              "      <td>-0.070856</td>\n",
              "    </tr>\n",
              "    <tr>\n",
              "      <th>NEIGHBORHOOD</th>\n",
              "      <td>-0.144981</td>\n",
              "      <td>1.000000</td>\n",
              "      <td>0.034504</td>\n",
              "      <td>0.040401</td>\n",
              "      <td>-0.015612</td>\n",
              "      <td>0.064599</td>\n",
              "      <td>0.022864</td>\n",
              "      <td>-0.115576</td>\n",
              "      <td>-0.018969</td>\n",
              "      <td>-0.012383</td>\n",
              "      <td>-0.009389</td>\n",
              "      <td>-0.033979</td>\n",
              "      <td>-0.104636</td>\n",
              "      <td>-0.034196</td>\n",
              "      <td>0.036727</td>\n",
              "      <td>0.023519</td>\n",
              "      <td>0.004019</td>\n",
              "    </tr>\n",
              "    <tr>\n",
              "      <th>BUILDING CLASS CATEGORY</th>\n",
              "      <td>-0.317936</td>\n",
              "      <td>0.034504</td>\n",
              "      <td>1.000000</td>\n",
              "      <td>0.863094</td>\n",
              "      <td>-0.292885</td>\n",
              "      <td>0.450135</td>\n",
              "      <td>0.644088</td>\n",
              "      <td>-0.163074</td>\n",
              "      <td>-0.064613</td>\n",
              "      <td>0.118785</td>\n",
              "      <td>-0.001565</td>\n",
              "      <td>-0.314957</td>\n",
              "      <td>-0.213852</td>\n",
              "      <td>-0.258683</td>\n",
              "      <td>0.935198</td>\n",
              "      <td>0.666040</td>\n",
              "      <td>0.049954</td>\n",
              "    </tr>\n",
              "    <tr>\n",
              "      <th>TAX CLASS AT PRESENT</th>\n",
              "      <td>-0.361609</td>\n",
              "      <td>0.040401</td>\n",
              "      <td>0.863094</td>\n",
              "      <td>1.000000</td>\n",
              "      <td>-0.336206</td>\n",
              "      <td>0.319449</td>\n",
              "      <td>0.586269</td>\n",
              "      <td>-0.079207</td>\n",
              "      <td>0.001099</td>\n",
              "      <td>0.184747</td>\n",
              "      <td>0.030853</td>\n",
              "      <td>-0.298261</td>\n",
              "      <td>-0.119895</td>\n",
              "      <td>-0.152360</td>\n",
              "      <td>0.932756</td>\n",
              "      <td>0.556027</td>\n",
              "      <td>0.068597</td>\n",
              "    </tr>\n",
              "    <tr>\n",
              "      <th>BLOCK</th>\n",
              "      <td>0.417001</td>\n",
              "      <td>-0.015612</td>\n",
              "      <td>-0.292885</td>\n",
              "      <td>-0.336206</td>\n",
              "      <td>1.000000</td>\n",
              "      <td>-0.229118</td>\n",
              "      <td>-0.296627</td>\n",
              "      <td>0.234063</td>\n",
              "      <td>-0.028936</td>\n",
              "      <td>-0.032303</td>\n",
              "      <td>-0.015888</td>\n",
              "      <td>0.307723</td>\n",
              "      <td>0.066702</td>\n",
              "      <td>0.071262</td>\n",
              "      <td>-0.287300</td>\n",
              "      <td>-0.300279</td>\n",
              "      <td>-0.054573</td>\n",
              "    </tr>\n",
              "    <tr>\n",
              "      <th>LOT</th>\n",
              "      <td>-0.277848</td>\n",
              "      <td>0.064599</td>\n",
              "      <td>0.450135</td>\n",
              "      <td>0.319449</td>\n",
              "      <td>-0.229118</td>\n",
              "      <td>1.000000</td>\n",
              "      <td>0.657077</td>\n",
              "      <td>-0.145802</td>\n",
              "      <td>-0.068209</td>\n",
              "      <td>-0.055031</td>\n",
              "      <td>-0.033169</td>\n",
              "      <td>-0.401427</td>\n",
              "      <td>-0.359712</td>\n",
              "      <td>-0.289463</td>\n",
              "      <td>0.296680</td>\n",
              "      <td>0.681074</td>\n",
              "      <td>0.010795</td>\n",
              "    </tr>\n",
              "    <tr>\n",
              "      <th>BUILDING CLASS AT PRESENT</th>\n",
              "      <td>-0.303971</td>\n",
              "      <td>0.022864</td>\n",
              "      <td>0.644088</td>\n",
              "      <td>0.586269</td>\n",
              "      <td>-0.296627</td>\n",
              "      <td>0.657077</td>\n",
              "      <td>1.000000</td>\n",
              "      <td>-0.148283</td>\n",
              "      <td>-0.072735</td>\n",
              "      <td>0.085434</td>\n",
              "      <td>-0.018224</td>\n",
              "      <td>-0.386512</td>\n",
              "      <td>-0.303297</td>\n",
              "      <td>-0.359724</td>\n",
              "      <td>0.510355</td>\n",
              "      <td>0.973161</td>\n",
              "      <td>0.038074</td>\n",
              "    </tr>\n",
              "    <tr>\n",
              "      <th>ZIP CODE</th>\n",
              "      <td>0.256564</td>\n",
              "      <td>-0.115576</td>\n",
              "      <td>-0.163074</td>\n",
              "      <td>-0.079207</td>\n",
              "      <td>0.234063</td>\n",
              "      <td>-0.145802</td>\n",
              "      <td>-0.148283</td>\n",
              "      <td>1.000000</td>\n",
              "      <td>0.019467</td>\n",
              "      <td>0.000008</td>\n",
              "      <td>0.005415</td>\n",
              "      <td>0.054126</td>\n",
              "      <td>0.132627</td>\n",
              "      <td>0.330708</td>\n",
              "      <td>-0.142915</td>\n",
              "      <td>-0.243183</td>\n",
              "      <td>-0.029644</td>\n",
              "    </tr>\n",
              "    <tr>\n",
              "      <th>RESIDENTIAL UNITS</th>\n",
              "      <td>-0.035805</td>\n",
              "      <td>-0.018969</td>\n",
              "      <td>-0.064613</td>\n",
              "      <td>0.001099</td>\n",
              "      <td>-0.028936</td>\n",
              "      <td>-0.068209</td>\n",
              "      <td>-0.072735</td>\n",
              "      <td>0.019467</td>\n",
              "      <td>1.000000</td>\n",
              "      <td>0.090943</td>\n",
              "      <td>0.662830</td>\n",
              "      <td>0.271753</td>\n",
              "      <td>0.420519</td>\n",
              "      <td>0.052063</td>\n",
              "      <td>-0.020532</td>\n",
              "      <td>-0.076823</td>\n",
              "      <td>0.097147</td>\n",
              "    </tr>\n",
              "    <tr>\n",
              "      <th>COMMERCIAL UNITS</th>\n",
              "      <td>-0.036903</td>\n",
              "      <td>-0.012383</td>\n",
              "      <td>0.118785</td>\n",
              "      <td>0.184747</td>\n",
              "      <td>-0.032303</td>\n",
              "      <td>-0.055031</td>\n",
              "      <td>0.085434</td>\n",
              "      <td>0.000008</td>\n",
              "      <td>0.090943</td>\n",
              "      <td>1.000000</td>\n",
              "      <td>0.329750</td>\n",
              "      <td>0.175752</td>\n",
              "      <td>0.279093</td>\n",
              "      <td>0.030424</td>\n",
              "      <td>0.215620</td>\n",
              "      <td>0.083737</td>\n",
              "      <td>0.202213</td>\n",
              "    </tr>\n",
              "    <tr>\n",
              "      <th>TOTAL UNITS</th>\n",
              "      <td>-0.023346</td>\n",
              "      <td>-0.009389</td>\n",
              "      <td>-0.001565</td>\n",
              "      <td>0.030853</td>\n",
              "      <td>-0.015888</td>\n",
              "      <td>-0.033169</td>\n",
              "      <td>-0.018224</td>\n",
              "      <td>0.005415</td>\n",
              "      <td>0.662830</td>\n",
              "      <td>0.329750</td>\n",
              "      <td>1.000000</td>\n",
              "      <td>0.155720</td>\n",
              "      <td>0.222803</td>\n",
              "      <td>0.024568</td>\n",
              "      <td>0.026429</td>\n",
              "      <td>-0.019723</td>\n",
              "      <td>0.102689</td>\n",
              "    </tr>\n",
              "    <tr>\n",
              "      <th>LAND SQUARE FEET</th>\n",
              "      <td>0.386896</td>\n",
              "      <td>-0.033979</td>\n",
              "      <td>-0.314957</td>\n",
              "      <td>-0.298261</td>\n",
              "      <td>0.307723</td>\n",
              "      <td>-0.401427</td>\n",
              "      <td>-0.386512</td>\n",
              "      <td>0.054126</td>\n",
              "      <td>0.271753</td>\n",
              "      <td>0.175752</td>\n",
              "      <td>0.155720</td>\n",
              "      <td>1.000000</td>\n",
              "      <td>0.618494</td>\n",
              "      <td>0.097877</td>\n",
              "      <td>-0.224110</td>\n",
              "      <td>-0.401529</td>\n",
              "      <td>0.060081</td>\n",
              "    </tr>\n",
              "    <tr>\n",
              "      <th>GROSS SQUARE FEET</th>\n",
              "      <td>0.114237</td>\n",
              "      <td>-0.104636</td>\n",
              "      <td>-0.213852</td>\n",
              "      <td>-0.119895</td>\n",
              "      <td>0.066702</td>\n",
              "      <td>-0.359712</td>\n",
              "      <td>-0.303297</td>\n",
              "      <td>0.132627</td>\n",
              "      <td>0.420519</td>\n",
              "      <td>0.279093</td>\n",
              "      <td>0.222803</td>\n",
              "      <td>0.618494</td>\n",
              "      <td>1.000000</td>\n",
              "      <td>0.206568</td>\n",
              "      <td>-0.086304</td>\n",
              "      <td>-0.316153</td>\n",
              "      <td>0.091889</td>\n",
              "    </tr>\n",
              "    <tr>\n",
              "      <th>YEAR BUILT</th>\n",
              "      <td>0.108303</td>\n",
              "      <td>-0.034196</td>\n",
              "      <td>-0.258683</td>\n",
              "      <td>-0.152360</td>\n",
              "      <td>0.071262</td>\n",
              "      <td>-0.289463</td>\n",
              "      <td>-0.359724</td>\n",
              "      <td>0.330708</td>\n",
              "      <td>0.052063</td>\n",
              "      <td>0.030424</td>\n",
              "      <td>0.024568</td>\n",
              "      <td>0.097877</td>\n",
              "      <td>0.206568</td>\n",
              "      <td>1.000000</td>\n",
              "      <td>-0.187609</td>\n",
              "      <td>-0.425983</td>\n",
              "      <td>-0.001220</td>\n",
              "    </tr>\n",
              "    <tr>\n",
              "      <th>TAX CLASS AT TIME OF SALE</th>\n",
              "      <td>-0.315163</td>\n",
              "      <td>0.036727</td>\n",
              "      <td>0.935198</td>\n",
              "      <td>0.932756</td>\n",
              "      <td>-0.287300</td>\n",
              "      <td>0.296680</td>\n",
              "      <td>0.510355</td>\n",
              "      <td>-0.142915</td>\n",
              "      <td>-0.020532</td>\n",
              "      <td>0.215620</td>\n",
              "      <td>0.026429</td>\n",
              "      <td>-0.224110</td>\n",
              "      <td>-0.086304</td>\n",
              "      <td>-0.187609</td>\n",
              "      <td>1.000000</td>\n",
              "      <td>0.525264</td>\n",
              "      <td>0.076217</td>\n",
              "    </tr>\n",
              "    <tr>\n",
              "      <th>BUILDING CLASS AT TIME OF SALE</th>\n",
              "      <td>-0.311548</td>\n",
              "      <td>0.023519</td>\n",
              "      <td>0.666040</td>\n",
              "      <td>0.556027</td>\n",
              "      <td>-0.300279</td>\n",
              "      <td>0.681074</td>\n",
              "      <td>0.973161</td>\n",
              "      <td>-0.243183</td>\n",
              "      <td>-0.076823</td>\n",
              "      <td>0.083737</td>\n",
              "      <td>-0.019723</td>\n",
              "      <td>-0.401529</td>\n",
              "      <td>-0.316153</td>\n",
              "      <td>-0.425983</td>\n",
              "      <td>0.525264</td>\n",
              "      <td>1.000000</td>\n",
              "      <td>0.040214</td>\n",
              "    </tr>\n",
              "    <tr>\n",
              "      <th>SALE PRICE</th>\n",
              "      <td>-0.070856</td>\n",
              "      <td>0.004019</td>\n",
              "      <td>0.049954</td>\n",
              "      <td>0.068597</td>\n",
              "      <td>-0.054573</td>\n",
              "      <td>0.010795</td>\n",
              "      <td>0.038074</td>\n",
              "      <td>-0.029644</td>\n",
              "      <td>0.097147</td>\n",
              "      <td>0.202213</td>\n",
              "      <td>0.102689</td>\n",
              "      <td>0.060081</td>\n",
              "      <td>0.091889</td>\n",
              "      <td>-0.001220</td>\n",
              "      <td>0.076217</td>\n",
              "      <td>0.040214</td>\n",
              "      <td>1.000000</td>\n",
              "    </tr>\n",
              "  </tbody>\n",
              "</table>\n",
              "</div>"
            ],
            "text/plain": [
              "                                 BOROUGH  ...  SALE PRICE\n",
              "BOROUGH                         1.000000  ...   -0.070856\n",
              "NEIGHBORHOOD                   -0.144981  ...    0.004019\n",
              "BUILDING CLASS CATEGORY        -0.317936  ...    0.049954\n",
              "TAX CLASS AT PRESENT           -0.361609  ...    0.068597\n",
              "BLOCK                           0.417001  ...   -0.054573\n",
              "LOT                            -0.277848  ...    0.010795\n",
              "BUILDING CLASS AT PRESENT      -0.303971  ...    0.038074\n",
              "ZIP CODE                        0.256564  ...   -0.029644\n",
              "RESIDENTIAL UNITS              -0.035805  ...    0.097147\n",
              "COMMERCIAL UNITS               -0.036903  ...    0.202213\n",
              "TOTAL UNITS                    -0.023346  ...    0.102689\n",
              "LAND SQUARE FEET                0.386896  ...    0.060081\n",
              "GROSS SQUARE FEET               0.114237  ...    0.091889\n",
              "YEAR BUILT                      0.108303  ...   -0.001220\n",
              "TAX CLASS AT TIME OF SALE      -0.315163  ...    0.076217\n",
              "BUILDING CLASS AT TIME OF SALE -0.311548  ...    0.040214\n",
              "SALE PRICE                     -0.070856  ...    1.000000\n",
              "\n",
              "[17 rows x 17 columns]"
            ]
          },
          "metadata": {
            "tags": []
          },
          "execution_count": 41
        }
      ]
    },
    {
      "cell_type": "code",
      "metadata": {
        "id": "tXePxac5Rkc7",
        "colab_type": "code",
        "outputId": "c00e9279-961d-443f-8f3a-b376213711d1",
        "colab": {
          "base_uri": "https://localhost:8080/",
          "height": 34
        }
      },
      "source": [
        "# Create heatmap of correlation coefficients\n",
        "sns.heatmap(correlation_coefficients, annot=True, cmap='Reds')"
      ],
      "execution_count": 42,
      "outputs": [
        {
          "output_type": "execute_result",
          "data": {
            "text/plain": [
              "<matplotlib.axes._subplots.AxesSubplot at 0x7f3234d867f0>"
            ]
          },
          "metadata": {
            "tags": []
          },
          "execution_count": 42
        }
      ]
    },
    {
      "cell_type": "markdown",
      "metadata": {
        "id": "QP6nrKZdSBkl",
        "colab_type": "text"
      },
      "source": [
        "# Visualize Distributions and Relationships"
      ]
    },
    {
      "cell_type": "code",
      "metadata": {
        "id": "ZiIISzVGSEhM",
        "colab_type": "code",
        "outputId": "667320d9-b499-4eb8-8d47-0fa1279a1fd7",
        "colab": {
          "base_uri": "https://localhost:8080/",
          "height": 34
        }
      },
      "source": [
        "sns.pairplot(data, height=5)"
      ],
      "execution_count": 43,
      "outputs": [
        {
          "output_type": "execute_result",
          "data": {
            "text/plain": [
              "<seaborn.axisgrid.PairGrid at 0x7f321fe884a8>"
            ]
          },
          "metadata": {
            "tags": []
          },
          "execution_count": 43
        }
      ]
    },
    {
      "cell_type": "markdown",
      "metadata": {
        "id": "Owg-ct3GPh-u",
        "colab_type": "text"
      },
      "source": [
        "# Build a Machine Learning Model"
      ]
    },
    {
      "cell_type": "markdown",
      "metadata": {
        "id": "dU5QzBbCPlXG",
        "colab_type": "text"
      },
      "source": [
        "# Linear Regression  \n",
        "Linear regression is the simplest method of predicting continuous variables. Its all about establishing a relationship between dependent variable (*Y*) and one or more independent variables (*X*) using a best fit straight line (also known as regression line).\n",
        "\n",
        "Mathematically,\n",
        "\n",
        "$\\begin {equation}\n",
        "h(x_i) = y = m_i x_i + b\n",
        "\\end {equation}$\n",
        "\n",
        "where $m_i$ is the linear coefficient (slope) and $b$ is the intercept.\n",
        "\n",
        "### Why learn linear regression?\n",
        "\n",
        "- Easy to use,\n",
        "- Used everywhere,\n",
        "- Runs quickly,\n",
        "- interpretable,\n",
        "- most basic form of machine learning.  \n",
        "\n",
        "\n"
      ]
    },
    {
      "cell_type": "markdown",
      "metadata": {
        "id": "SPjvHertLE-8",
        "colab_type": "text"
      },
      "source": [
        "### For now, we use all three variables to predict sales  \n"
      ]
    },
    {
      "cell_type": "code",
      "metadata": {
        "id": "G0hEDKVvSQzN",
        "colab_type": "code",
        "outputId": "58d85b3b-9dec-427a-9dc7-c8846436152d",
        "colab": {
          "base_uri": "https://localhost:8080/",
          "height": 153
        }
      },
      "source": [
        "data.columns"
      ],
      "execution_count": 44,
      "outputs": [
        {
          "output_type": "execute_result",
          "data": {
            "text/plain": [
              "Index(['BOROUGH', 'NEIGHBORHOOD', 'BUILDING CLASS CATEGORY',\n",
              "       'TAX CLASS AT PRESENT', 'BLOCK', 'LOT', 'EASE-MENT',\n",
              "       'BUILDING CLASS AT PRESENT', 'ADDRESS', 'APARTMENT NUMBER', 'ZIP CODE',\n",
              "       'RESIDENTIAL UNITS', 'COMMERCIAL UNITS', 'TOTAL UNITS',\n",
              "       'LAND SQUARE FEET', 'GROSS SQUARE FEET', 'YEAR BUILT',\n",
              "       'TAX CLASS AT TIME OF SALE', 'BUILDING CLASS AT TIME OF SALE',\n",
              "       'SALE PRICE', 'SALE DATE'],\n",
              "      dtype='object')"
            ]
          },
          "metadata": {
            "tags": []
          },
          "execution_count": 44
        }
      ]
    },
    {
      "cell_type": "code",
      "metadata": {
        "id": "tzIOcaEpJM2a",
        "colab_type": "code",
        "colab": {}
      },
      "source": [
        "# Define Features\n",
        "features = ['NEIGHBORHOOD','GROSS SQUARE FEET','TAX CLASS AT TIME OF SALE', 'BUILDING CLASS AT TIME OF SALE','TAX CLASS AT PRESENT', 'BUILDING CLASS AT PRESENT']\n",
        "\n",
        "# Set X\n",
        "X = data[features]"
      ],
      "execution_count": 0,
      "outputs": []
    },
    {
      "cell_type": "code",
      "metadata": {
        "id": "o4K9QmhfLMm0",
        "colab_type": "code",
        "colab": {}
      },
      "source": [
        "# Set y\n",
        "y = data['SALE PRICE']"
      ],
      "execution_count": 0,
      "outputs": []
    },
    {
      "cell_type": "code",
      "metadata": {
        "id": "6BZGPCO4e3fW",
        "colab_type": "code",
        "colab": {}
      },
      "source": [
        "# Train-test split\n",
        "X_train, X_test, y_train, y_test = train_test_split(X, y, test_size = 0.4, random_state = 42)"
      ],
      "execution_count": 0,
      "outputs": []
    },
    {
      "cell_type": "code",
      "metadata": {
        "id": "eLfNfXu4LZf2",
        "colab_type": "code",
        "colab": {}
      },
      "source": [
        "# Initialize model\n",
        "model = LinearRegression() \n"
      ],
      "execution_count": 0,
      "outputs": []
    },
    {
      "cell_type": "code",
      "metadata": {
        "id": "JGwg3gd2LmFG",
        "colab_type": "code",
        "outputId": "ff469320-10b6-4cff-a6c8-1c20a4b3e458",
        "colab": {
          "base_uri": "https://localhost:8080/",
          "height": 34
        }
      },
      "source": [
        "# Fit Model\n",
        "model.fit(X_train, y_train)"
      ],
      "execution_count": 254,
      "outputs": [
        {
          "output_type": "execute_result",
          "data": {
            "text/plain": [
              "LinearRegression(copy_X=True, fit_intercept=True, n_jobs=None, normalize=False)"
            ]
          },
          "metadata": {
            "tags": []
          },
          "execution_count": 254
        }
      ]
    },
    {
      "cell_type": "code",
      "metadata": {
        "id": "W9EzcesOMgfl",
        "colab_type": "code",
        "colab": {}
      },
      "source": [
        "# get coefficients\n",
        "coefficient = model.coef_\n",
        "\n",
        "# get intercept\n",
        "intercept = model.intercept_"
      ],
      "execution_count": 0,
      "outputs": []
    },
    {
      "cell_type": "code",
      "metadata": {
        "id": "rm3jA5s3M9Z9",
        "colab_type": "code",
        "outputId": "a333e30c-9a71-46bd-c677-e230b2d1068a",
        "colab": {
          "base_uri": "https://localhost:8080/",
          "height": 51
        }
      },
      "source": [
        "# print coefficient\n",
        "coefficient"
      ],
      "execution_count": 256,
      "outputs": [
        {
          "output_type": "execute_result",
          "data": {
            "text/plain": [
              "array([  1804.16474995,   1130.67340591, 934294.11247813,  11675.98942105,\n",
              "        -7103.03777853,  -2523.96581953])"
            ]
          },
          "metadata": {
            "tags": []
          },
          "execution_count": 256
        }
      ]
    },
    {
      "cell_type": "code",
      "metadata": {
        "id": "f1tWynoUNLrf",
        "colab_type": "code",
        "outputId": "773ea9b7-a368-4638-b2b1-d6cd6614fa33",
        "colab": {
          "base_uri": "https://localhost:8080/",
          "height": 34
        }
      },
      "source": [
        "# print intercept\n",
        "intercept"
      ],
      "execution_count": 257,
      "outputs": [
        {
          "output_type": "execute_result",
          "data": {
            "text/plain": [
              "-1149505.7380780585"
            ]
          },
          "metadata": {
            "tags": []
          },
          "execution_count": 257
        }
      ]
    },
    {
      "cell_type": "code",
      "metadata": {
        "id": "JfHcNJ-pNOVH",
        "colab_type": "code",
        "outputId": "1b5321d8-78c7-4c14-d259-5820624d28d0",
        "colab": {
          "base_uri": "https://localhost:8080/",
          "height": 34
        }
      },
      "source": [
        "# calculate the R-squared\n",
        "model.score(X_test, y_test)"
      ],
      "execution_count": 258,
      "outputs": [
        {
          "output_type": "execute_result",
          "data": {
            "text/plain": [
              "0.03541445848649738"
            ]
          },
          "metadata": {
            "tags": []
          },
          "execution_count": 258
        }
      ]
    },
    {
      "cell_type": "code",
      "metadata": {
        "id": "NVHWPPEbeo-Q",
        "colab_type": "code",
        "colab": {}
      },
      "source": [
        "y_predicted = model.predict(X_test)"
      ],
      "execution_count": 0,
      "outputs": []
    },
    {
      "cell_type": "markdown",
      "metadata": {
        "id": "K6RN__jGchfF",
        "colab_type": "text"
      },
      "source": [
        "### Model Error"
      ]
    },
    {
      "cell_type": "code",
      "metadata": {
        "id": "nZyoRoKTckZ1",
        "colab_type": "code",
        "outputId": "907ac7f2-8f85-402d-ad93-4418de350512",
        "colab": {
          "base_uri": "https://localhost:8080/",
          "height": 34
        }
      },
      "source": [
        "np.sqrt(mse(y_predicted, y_test)) # Root mean squared error"
      ],
      "execution_count": 260,
      "outputs": [
        {
          "output_type": "execute_result",
          "data": {
            "text/plain": [
              "5154715.084013985"
            ]
          },
          "metadata": {
            "tags": []
          },
          "execution_count": 260
        }
      ]
    }
  ]
}